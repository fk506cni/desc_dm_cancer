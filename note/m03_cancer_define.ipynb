{
 "cells": [
  {
   "cell_type": "code",
   "execution_count": 2,
   "id": "37118d7e-8ac5-416f-b6f3-d42ac936a792",
   "metadata": {},
   "outputs": [],
   "source": [
    "import pandas as pd\n",
    "import polars as pl\n",
    "import gc\n",
    "import json"
   ]
  },
  {
   "cell_type": "code",
   "execution_count": 3,
   "id": "6fc0826c-218a-499a-965b-a14f966da51d",
   "metadata": {},
   "outputs": [],
   "source": [
    "def j2d(f):\n",
    "    with open(f, \"rt\") as file:\n",
    "        d = json.load(file)\n",
    "    return d\n",
    "\n",
    "def d2j(d, f):\n",
    "    with open(f, \"wt\") as file:\n",
    "        json.dump(d, file, indent = 2)"
   ]
  },
  {
   "cell_type": "code",
   "execution_count": 4,
   "id": "98088e6d-210c-4754-887d-98b3e533b19e",
   "metadata": {},
   "outputs": [
    {
     "data": {
      "text/plain": [
       "['C00', 'C01', 'C02']"
      ]
     },
     "execution_count": 4,
     "metadata": {},
     "output_type": "execute_result"
    }
   ],
   "source": [
    "l_cancer = j2d(\"../../share3/mat/cans_codes_icd.json\")['icdcode']\n",
    "tag_cancer = set(l_cancer)\n",
    "l_cancer[:3]"
   ]
  },
  {
   "cell_type": "code",
   "execution_count": 5,
   "id": "b51349b0-61b1-4ccc-9f9f-7ce2e95b46b7",
   "metadata": {},
   "outputs": [
    {
     "data": {
      "text/plain": [
       "['8845943', '8845270', '8844174']"
      ]
     },
     "execution_count": 5,
     "metadata": {},
     "output_type": "execute_result"
    }
   ],
   "source": [
    "l_ = j2d(\"../../share3/mat/cans_codes.json\")['cancercode']\n",
    "code_cancer = set(l_)\n",
    "\n",
    "l_[:3]"
   ]
  },
  {
   "cell_type": "code",
   "execution_count": 6,
   "id": "f25b8bf8-6c8f-4cf3-9cdf-e6b359fb43f1",
   "metadata": {},
   "outputs": [],
   "source": [
    "# l_cancer = [\"C\" + str(i).zfill(2) for i in range(0, 100)] + \\\n",
    "#         [\"D\" + str(i).zfill(2) for i in range(0, 9)] + \\\n",
    "#         [\"D\" + str(i).zfill(2) for i in range(37, 49)]\n",
    "# tag_cancer = set(l_cancer)\n",
    "# # l_cancer = sorted(list(set(l_cancer)))\n",
    "# # tag_cancer\n",
    "# # l_cancer"
   ]
  },
  {
   "cell_type": "code",
   "execution_count": 7,
   "id": "35fdd964-b4f9-4d5b-a182-910fb52e7207",
   "metadata": {},
   "outputs": [],
   "source": [
    "# s_crc = set([\"C18\" ,\"C19\",\"C20\", \"C21\"])\n",
    "s_crc = set([\"C18\" ,\"C19\",\"C20\"])\n",
    "s_bld = set([\"C23\",\"C24\"])\n",
    "s_lung = set([\"C33\",\"C34\"])\n",
    "# s_kdn = set([\"C64\", \"C65\", \"C66\", \"C68\"])\n",
    "s_skin = set([\"C43\",\"C44\"])\n",
    "s_2nd =  set([\"C78\",\"C79\"])\n",
    "s_lym =  set([\"C81\",\"C82\",\"C83\",\"C84\",\"C85\",\"C86\"])\n",
    "s_leu =  set([\"C91\",\"C92\",\"C93\",\"C94\",\"C95\"])"
   ]
  },
  {
   "cell_type": "code",
   "execution_count": 8,
   "id": "d500258a-9303-497c-a874-91ef22c59725",
   "metadata": {},
   "outputs": [],
   "source": [
    "f = \"../../share3/m_icd10.parquet\"\n",
    "\n",
    "m_dis = pl.scan_parquet(f)\\\n",
    "    .filter(\n",
    "        pl.col(\"icd10_sub_code\").is_in(tag_cancer)\n",
    "    )\\\n",
    "    .select(\n",
    "        pl.col(\"diseases_code\", \"icd10_kbn_code\", \"icd10_code\",\"icd10_sub_code\")\n",
    "    )\\\n",
    "    .with_columns(\n",
    "        pl.when(pl.col(\"icd10_sub_code\").is_in(s_crc))\n",
    "        .then(pl.lit(\"C18-C20\"))\n",
    "        .when(pl.col(\"icd10_sub_code\").is_in(s_bld))\n",
    "        .then(pl.lit(\"C23-C24\"))\n",
    "        .when(pl.col(\"icd10_sub_code\").is_in(s_lung))\n",
    "        .then(pl.lit(\"C33-C34\"))\n",
    "        # .when(pl.col(\"icd10_sub_code\").is_in(s_kdn))\n",
    "        # .then(pl.lit(\"C64-C66 and C68\"))\n",
    "        .when(pl.col(\"icd10_sub_code\").is_in(s_skin))\n",
    "        .then(pl.lit(\"C43-C44\"))\n",
    "        .when(pl.col(\"icd10_sub_code\").is_in(s_2nd))\n",
    "        .then(pl.lit(\"C78-C79\"))\n",
    "        .when(pl.col(\"icd10_sub_code\").is_in(s_lym))\n",
    "        .then(pl.lit(\"C81-C86\"))\n",
    "        .when(pl.col(\"icd10_sub_code\").is_in(s_leu))\n",
    "        .then(pl.lit(\"C91-C95\"))\n",
    "        .otherwise(pl.col(\"icd10_sub_code\"))\n",
    "        .alias(\"icd10_sub_code_fix\")\n",
    "    )\\\n",
    "    .select(pl.exclude(\"icd10_sub_code\"))\\\n",
    "    .rename({\"icd10_sub_code_fix\":\"icd10_sub_code\"})\n",
    "# code_cancer = m_dis\\\n",
    "#     .collect()\\\n",
    "#     .select(\n",
    "#             pl.col(\"diseases_code\")\n",
    "#     ).to_series()\\\n",
    "#     .unique().to_list()\n",
    "\n",
    "# f_dcans = \"../../share3/mat/cans_codes.json\"\n",
    "# d2j(d={\"cancercode\":l_cancer}, f=f_dcans)\n",
    "\n",
    "# code_cancer = set(code_cancer )\n",
    "# m_dis.fetch()"
   ]
  },
  {
   "cell_type": "code",
   "execution_count": 9,
   "id": "9c1cf106-8e2c-4fc9-af0b-45bb26ec82b9",
   "metadata": {},
   "outputs": [],
   "source": [
    "# m_dis\\\n",
    "#     .filter(pl.col(\"icd10_sub_code\") != pl.col(\"icd10_sub_code_fix\"))\\\n",
    "#     .collect()"
   ]
  },
  {
   "cell_type": "code",
   "execution_count": 10,
   "id": "57ac567b-f8a7-49de-a186-8262be9b425a",
   "metadata": {},
   "outputs": [
    {
     "data": {
      "text/plain": [
       "['0', '1', '2', '3', '4', '5', '6', '7', '8', '9']"
      ]
     },
     "execution_count": 10,
     "metadata": {},
     "output_type": "execute_result"
    }
   ],
   "source": [
    "lx = [str(i) for i in range(10)]\n",
    "lx"
   ]
  },
  {
   "cell_type": "code",
   "execution_count": 11,
   "id": "c460cadc-e33e-45c4-8139-580c2649469e",
   "metadata": {},
   "outputs": [
    {
     "name": "stdout",
     "output_type": "stream",
     "text": [
      "../../share3/diag/df_cancers_diag_split_0.parquet\n",
      "../../share3/diag/df_cancers_diag_split_1.parquet\n",
      "../../share3/diag/df_cancers_diag_split_2.parquet\n",
      "../../share3/diag/df_cancers_diag_split_3.parquet\n",
      "../../share3/diag/df_cancers_diag_split_4.parquet\n",
      "../../share3/diag/df_cancers_diag_split_5.parquet\n",
      "../../share3/diag/df_cancers_diag_split_6.parquet\n",
      "../../share3/diag/df_cancers_diag_split_7.parquet\n",
      "../../share3/diag/df_cancers_diag_split_8.parquet\n",
      "../../share3/diag/df_cancers_diag_split_9.parquet\n",
      "CPU times: user 16min 55s, sys: 44 s, total: 17min 39s\n",
      "Wall time: 3min 36s\n"
     ]
    }
   ],
   "source": [
    "%%time\n",
    "        # .agg(\n",
    "        #     (pl.col(\"icd10_sub_code\") == value).max().alias(value)\n",
    "        #     for value in l_cancer\n",
    "        # )\\\n",
    "\n",
    "\n",
    "for i in lx:\n",
    "    f = \"../../share3/dis/df_dis_split_{}.parquet\".format(i)\n",
    "    dis_ = pl.scan_parquet(f)\\\n",
    "        .filter(pl.col(\"utagai_flg\") != \"1\")\\\n",
    "        .filter(pl.col(\"diseases_code\").is_in(code_cancer))\\\n",
    "        .join(other=m_dis, \n",
    "              how=\"left\",\n",
    "              on= \"diseases_code\")\\\n",
    "        .group_by(\"kojin_id\",\"grp\", \"icd10_sub_code\")\\\n",
    "        .agg(\n",
    "            pl.col(\"receipt_ym\").str.replace(\"/\", \"\").cast(pl.Int32).min().cast(pl.String).alias(\"min_ym\"))\\\n",
    "        .with_columns(\n",
    "            pl.lit(True).alias(\"with_cancer_diag_codes\"),\n",
    "            (pl.col(\"min_ym\").str.slice(0,4) +\n",
    "             \"/\" + \n",
    "             pl.col(\"min_ym\").str.slice(4,6)).alias(\"receipt_ym\")\n",
    "        )\\\n",
    "        .select(pl.exclude(\"min_ym\"))\n",
    "        \n",
    "\n",
    "\n",
    "    \n",
    "        # .group_by(\"kojin_id\",\"grp\", \"receipt_ym\")\\\n",
    "        # .agg(\n",
    "        #     pl.col(\"icd10_sub_code\").unique().sort().str.concat(\",\").alias(\"cancers\"))\\\n",
    "        # .with_columns(\n",
    "        #     pl.lit(True).alias(\"with_cancer_diag_codes\"))\n",
    "        \n",
    "    \n",
    "\n",
    "    f_out = \"../../share3/diag/df_cancers_diag_split_{}.parquet\".format(i)\n",
    "    dis_.collect(streaming=True).write_parquet(f_out)\n",
    "    # dis_.sink_parquet(f_out)\n",
    "    print(f_out)\n",
    "    gc.collect()\n",
    "    # break"
   ]
  },
  {
   "cell_type": "code",
   "execution_count": 21,
   "id": "a1b6a05f-4e3c-445c-bbd2-b18960f51f86",
   "metadata": {},
   "outputs": [],
   "source": [
    "# dis_.collect()\n"
   ]
  },
  {
   "cell_type": "code",
   "execution_count": null,
   "id": "c6d51b15-cdbe-4319-96e6-d0bbf9c468a9",
   "metadata": {},
   "outputs": [],
   "source": []
  },
  {
   "cell_type": "code",
   "execution_count": null,
   "id": "d31af483-9738-480b-9cad-0a43861c3836",
   "metadata": {},
   "outputs": [],
   "source": []
  },
  {
   "cell_type": "code",
   "execution_count": null,
   "id": "de1da659-ad68-47c0-994f-39c14641d03c",
   "metadata": {},
   "outputs": [],
   "source": []
  },
  {
   "cell_type": "code",
   "execution_count": null,
   "id": "abb6a077-9005-4b81-ac79-b493bd3f40a2",
   "metadata": {},
   "outputs": [],
   "source": []
  },
  {
   "cell_type": "code",
   "execution_count": null,
   "id": "72939879-f4fb-468a-911c-f2fe1f2671c5",
   "metadata": {},
   "outputs": [],
   "source": []
  },
  {
   "cell_type": "code",
   "execution_count": null,
   "id": "d7433918-31d3-415d-88a3-eac4f0aecdbf",
   "metadata": {},
   "outputs": [],
   "source": []
  },
  {
   "cell_type": "code",
   "execution_count": null,
   "id": "861a5b48-6f52-40e2-bd15-f2c5d43bca8e",
   "metadata": {},
   "outputs": [],
   "source": []
  },
  {
   "cell_type": "code",
   "execution_count": null,
   "id": "9e5b9c62-7471-40c4-9f7f-a80e986d9e19",
   "metadata": {},
   "outputs": [],
   "source": []
  }
 ],
 "metadata": {
  "kernelspec": {
   "display_name": "Python 3 (ipykernel)",
   "language": "python",
   "name": "python3"
  },
  "language_info": {
   "codemirror_mode": {
    "name": "ipython",
    "version": 3
   },
   "file_extension": ".py",
   "mimetype": "text/x-python",
   "name": "python",
   "nbconvert_exporter": "python",
   "pygments_lexer": "ipython3",
   "version": "3.10.11"
  }
 },
 "nbformat": 4,
 "nbformat_minor": 5
}
