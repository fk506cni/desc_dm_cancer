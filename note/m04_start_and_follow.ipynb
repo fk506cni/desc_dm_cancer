{
 "cells": [
  {
   "cell_type": "code",
   "execution_count": 1,
   "id": "e1253d5c-bd2c-4fe4-aecb-e8f898b04962",
   "metadata": {},
   "outputs": [],
   "source": [
    "import pandas as pd\n",
    "import polars as pl\n",
    "import gc\n",
    "import json\n",
    "import glob\n",
    "import hashlib"
   ]
  },
  {
   "cell_type": "code",
   "execution_count": 2,
   "id": "d1250727-da63-4e92-9179-57a8abd5acfd",
   "metadata": {},
   "outputs": [],
   "source": [
    "def j2d(f):\n",
    "    with open(f, \"rt\") as file:\n",
    "        d = json.load(file)\n",
    "    return d\n",
    "\n",
    "def d2j(d, f):\n",
    "    with open(f, \"wt\") as file:\n",
    "        json.dump(d, file, indent = 2)"
   ]
  },
  {
   "cell_type": "code",
   "execution_count": 3,
   "id": "ed1814eb-a15f-47dd-858a-6a9da5a2c56f",
   "metadata": {},
   "outputs": [],
   "source": [
    "d_ss = j2d(\"../../share3/mat/d_ss.json\")"
   ]
  },
  {
   "cell_type": "code",
   "execution_count": 4,
   "id": "d2ca0853-4408-4982-80ce-69e835675633",
   "metadata": {},
   "outputs": [
    {
     "data": {
      "text/plain": [
       "{'solt': '89sryf', 'stretch': 62}"
      ]
     },
     "execution_count": 4,
     "metadata": {},
     "output_type": "execute_result"
    }
   ],
   "source": [
    "d_ss"
   ]
  },
  {
   "cell_type": "code",
   "execution_count": 5,
   "id": "217458f0-3b7f-40ba-ac45-83232c3e5191",
   "metadata": {},
   "outputs": [
    {
     "data": {
      "text/plain": [
       "['A10AC', 'A10AD', 'A10AB']"
      ]
     },
     "execution_count": 5,
     "metadata": {},
     "output_type": "execute_result"
    }
   ],
   "source": [
    "l_cancer = j2d(f=\"../../share3/mat/cans_codes.json\")['cancercode']\n",
    "l_cancer[:3]\n",
    "\n",
    "\n",
    "atcsub = j2d(f=\"../../share3/mat/atc_codes.json\")['atcsubcode']\n",
    "atcsub[:3]"
   ]
  },
  {
   "cell_type": "code",
   "execution_count": 6,
   "id": "bd67c304-2dca-439c-99e2-aa6df56195c7",
   "metadata": {},
   "outputs": [
    {
     "data": {
      "text/plain": [
       "['0', '1', '2', '3', '4', '5', '6', '7', '8', '9']"
      ]
     },
     "execution_count": 6,
     "metadata": {},
     "output_type": "execute_result"
    }
   ],
   "source": [
    "lx = [str(i) for i in range(10)]\n",
    "lx"
   ]
  },
  {
   "cell_type": "code",
   "execution_count": 7,
   "id": "a3f459c3-56f8-418e-a630-9f46cfbf6913",
   "metadata": {},
   "outputs": [],
   "source": [
    "# %%time\n",
    "# f = \"../../share3/tekiyo_all.parquet\"\n",
    "# pts_ = pl.scan_parquet(f)\n",
    "# pts_.fetch()"
   ]
  },
  {
   "cell_type": "code",
   "execution_count": 8,
   "id": "d7e9898a-4b3c-41a4-8f9a-aed972f00e5e",
   "metadata": {},
   "outputs": [
    {
     "name": "stdout",
     "output_type": "stream",
     "text": [
      "../../share3/smr/df_pt_split_0.parquet\n",
      "../../share3/smr/df_pt_split_1.parquet\n",
      "../../share3/smr/df_pt_split_2.parquet\n",
      "../../share3/smr/df_pt_split_3.parquet\n",
      "../../share3/smr/df_pt_split_4.parquet\n",
      "../../share3/smr/df_pt_split_5.parquet\n",
      "../../share3/smr/df_pt_split_6.parquet\n",
      "../../share3/smr/df_pt_split_7.parquet\n",
      "../../share3/smr/df_pt_split_8.parquet\n",
      "../../share3/smr/df_pt_split_9.parquet\n",
      "CPU times: user 5min 46s, sys: 3min 27s, total: 9min 13s\n",
      "Wall time: 4min 14s\n"
     ]
    }
   ],
   "source": [
    "%%time\n",
    "# f = \"../../share3/tekiyo.parquet\"\n",
    "f = \"../../share3/tekiyo_all.parquet\"\n",
    "pts_ = pl.scan_parquet(f)\\\n",
    "    .with_columns(\n",
    "    (pl.col(\"observable_start_ym\") + \"/01\").str.to_datetime().alias(\"start\"),\n",
    "    (pl.col(\"observable_end_ym\") + \"/01\").str.to_datetime().alias(\"end\"),\n",
    "    (pl.col(\"birth_ym\") + \"/01\").alias(\"birth\").str.to_datetime().alias(\"birth\")\n",
    "    )\\\n",
    "    .with_columns(\n",
    "        ((pl.col(\"start\") - pl.col(\"birth\")).dt.total_days()/365.25).alias(\"age_at_start\"),\n",
    "        ((pl.col(\"end\") - pl.col(\"start\")).dt.total_days()*12/365.25).round(0).cast(pl.Int32).alias(\"follow\"),\n",
    "    )\\\n",
    "    .with_columns(\n",
    "    pl.col(\"kojin_id\").hash(seed=d_ss[\"stretch\"]).cast(pl.String).str.slice(-1,1).alias(\"grp\"),\n",
    ")\n",
    "\n",
    "for i in lx:\n",
    "    f_out = \"../../share3/smr/df_pt_split_{}.parquet\".format(i)\n",
    "    print(f_out)\n",
    "    pts_.filter(pl.col(\"grp\") == i)\\\n",
    "        .sink_parquet(f_out,maintain_order=True)\n",
    "\n",
    "    \n",
    "    # dis_.collect(streaming=True).write_parquet(f_out)\n",
    "    # pts_.sink_parquet(f_out)\n",
    "    \n",
    "    gc.collect()\n",
    "    # break"
   ]
  },
  {
   "cell_type": "code",
   "execution_count": 8,
   "id": "7a059192-84ff-4f8f-ab31-77e853902184",
   "metadata": {},
   "outputs": [
    {
     "name": "stdout",
     "output_type": "stream",
     "text": [
      "../../share3/smr/df_pt_smr_nc_0.parquet\n",
      "../../share3/smr/df_pt_smr_nc_1.parquet\n",
      "../../share3/smr/df_pt_smr_nc_2.parquet\n",
      "../../share3/smr/df_pt_smr_nc_3.parquet\n",
      "../../share3/smr/df_pt_smr_nc_4.parquet\n",
      "../../share3/smr/df_pt_smr_nc_5.parquet\n",
      "../../share3/smr/df_pt_smr_nc_6.parquet\n",
      "../../share3/smr/df_pt_smr_nc_7.parquet\n",
      "../../share3/smr/df_pt_smr_nc_8.parquet\n",
      "../../share3/smr/df_pt_smr_nc_9.parquet\n",
      "CPU times: user 1min 16s, sys: 12.9 s, total: 1min 28s\n",
      "Wall time: 18.9 s\n"
     ]
    }
   ],
   "source": [
    "%%time\n",
    "for i in lx:\n",
    "    f = \"../../share3/smr/df_pt_split_{}.parquet\".format(i)\n",
    "    pts_ = pl.scan_parquet(f,low_memory=True)\\\n",
    "        .select(\n",
    "            pl.col(\"kojin_id\", \"birth_ym\", \"sex_code\",\"start\", \"end\", \"birth\", \"age_at_start\", \"follow\", \"grp\")\n",
    "        )\n",
    "    pts_follow = pts_\\\n",
    "        .with_columns(\n",
    "            pl.lit(\"cens\").alias(\"event_type\"),\n",
    "            (pl.col(\"end\") -pl.col(\"start\")).alias(\"time\")\n",
    "        )\n",
    "\n",
    "    f = \"../../share3/diag/df_dm_diag_split_{}.parquet\".format(i)\n",
    "    dm_ = pl.scan_parquet(f,low_memory=True)\\\n",
    "        .with_columns(\n",
    "        (pl.col(\"receipt_ym\") + \"/01\").str.to_datetime().alias(\"receipt_ym_dt\")\n",
    "        )\\\n",
    "        .select(pl.exclude(atcsub))\\\n",
    "        .group_by(\"kojin_id\")\\\n",
    "        .agg(pl.col(\"receipt_ym_dt\").min())\n",
    "    pts_dm = dm_\\\n",
    "        .join(other=pts_,\n",
    "              how=\"left\",\n",
    "              on = [\"kojin_id\"])\\\n",
    "        .select(pl.exclude(\"end\"))\\\n",
    "        .with_columns(\n",
    "            pl.lit(\"dm\").alias(\"event_type\"),\n",
    "            (pl.col(\"receipt_ym_dt\") -pl.col(\"start\")).alias(\"time\")\n",
    "        )\\\n",
    "        .rename({\"receipt_ym_dt\":\"end\"})\n",
    "        \n",
    "\n",
    "    f = \"../../share3/diag/df_cancers_diag_split_{}.parquet\".format(i)\n",
    "    cans_ = pl.scan_parquet(f,low_memory=True)\\\n",
    "        .with_columns(\n",
    "            (pl.col(\"receipt_ym\") + \"/01\").str.to_datetime().alias(\"receipt_ym_dt\")\n",
    "            )\\\n",
    "        .select(pl.exclude(\"grp\"))\n",
    "\n",
    "    pts_cans = cans_\\\n",
    "        .join(other=pts_,\n",
    "              how=\"left\",\n",
    "              on = [\"kojin_id\"])\\\n",
    "        .select(pl.exclude(\"end\"))\\\n",
    "        .with_columns(\n",
    "            pl.col(\"icd10_sub_code\").alias(\"event_type\"),\n",
    "            (pl.col(\"receipt_ym_dt\") -pl.col(\"start\")).alias(\"time\")\n",
    "        )\\\n",
    "        .rename({\"receipt_ym_dt\":\"end\"})\\\n",
    "        .select(pl.exclude([\"icd10_sub_code\",\"with_cancer_diag_codes\",\"receipt_ym\"]))\n",
    "\n",
    "    pts_follow_dm_cans = pl.concat(\n",
    "        [pts_follow, pts_dm, pts_cans],\n",
    "         how=\"diagonal\"\n",
    "    )\\\n",
    "        .sort(\"kojin_id\")\n",
    "    f_out = \"../../share3/smr/df_pt_smr_nc_{}.parquet\".format(i)\n",
    "    print(f_out)\n",
    "    pts_follow_dm_cans.sink_parquet(f_out)\n",
    "    gc.collect()\n",
    "    # break\n",
    "\n",
    "# pts_follow.fetch()\n",
    "# dm_.fetch()\n",
    "# pts_dm.collect()\n",
    "# cans_.fetch()\n",
    "\n",
    "# pts_dm.collect()\n",
    "# pts_follow_dm_cans.collect()"
   ]
  },
  {
   "cell_type": "code",
   "execution_count": 15,
   "id": "fd608ba6-a53d-4a87-938d-86f7d12cc926",
   "metadata": {},
   "outputs": [],
   "source": [
    "# pl.scan_parquet(\"../../share3/smr/df_pt_smr_nc_0.parquet\").fetch()"
   ]
  },
  {
   "cell_type": "code",
   "execution_count": null,
   "id": "50d2f007-f53f-4793-b639-6a9c4c837670",
   "metadata": {},
   "outputs": [],
   "source": []
  },
  {
   "cell_type": "code",
   "execution_count": null,
   "id": "b28b004e-526e-4c63-893b-72f514f7b246",
   "metadata": {},
   "outputs": [],
   "source": []
  },
  {
   "cell_type": "code",
   "execution_count": null,
   "id": "b10646aa-6c65-4592-a5b2-7c4e680bf545",
   "metadata": {},
   "outputs": [],
   "source": []
  }
 ],
 "metadata": {
  "kernelspec": {
   "display_name": "Python 3 (ipykernel)",
   "language": "python",
   "name": "python3"
  },
  "language_info": {
   "codemirror_mode": {
    "name": "ipython",
    "version": 3
   },
   "file_extension": ".py",
   "mimetype": "text/x-python",
   "name": "python",
   "nbconvert_exporter": "python",
   "pygments_lexer": "ipython3",
   "version": "3.10.11"
  }
 },
 "nbformat": 4,
 "nbformat_minor": 5
}
