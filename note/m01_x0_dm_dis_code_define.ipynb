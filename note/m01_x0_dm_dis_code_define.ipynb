{
 "cells": [
  {
   "cell_type": "code",
   "execution_count": 15,
   "id": "7e71a1cd-782f-40a2-a967-bb699c5cc233",
   "metadata": {},
   "outputs": [],
   "source": [
    "import pandas as pd\n",
    "import polars as pl\n",
    "import gc\n",
    "import json"
   ]
  },
  {
   "cell_type": "code",
   "execution_count": 16,
   "id": "e522d5d5-d4d5-4a30-a9de-6c29b6490214",
   "metadata": {},
   "outputs": [],
   "source": [
    "def j2d(f):\n",
    "    with open(f, \"rt\") as file:\n",
    "        d = json.load(file)\n",
    "    return d\n",
    "\n",
    "def d2j(d, f):\n",
    "    with open(f, \"wt\") as file:\n",
    "        json.dump(d, file, indent = 2)"
   ]
  },
  {
   "cell_type": "code",
   "execution_count": null,
   "id": "0d2209fd-302e-45b6-89b8-832002940eaf",
   "metadata": {},
   "outputs": [],
   "source": []
  },
  {
   "cell_type": "code",
   "execution_count": 17,
   "id": "4fdb67af-a69a-431d-827e-d3265d822e40",
   "metadata": {},
   "outputs": [],
   "source": [
    "f = \"../../share3/jdi13641-sup-0001-tables1-s5.xlsx\"\n",
    "d_mst = pd.read_excel(f, sheet_name=\"Supplemental Table 1\", skiprows=2, dtype={\"diagnosis code\":str})\\\n",
    "    .query(\"`diagnosis code`==`diagnosis code`\")\n",
    "dr_mst = pd.read_excel(f, sheet_name=\"Supplemental Table 2\", skiprows=2, dtype={\"medicine code\":str})\\\n",
    "    .query(\"`medicine code`==`medicine code`\")\\\n",
    "    .rename(columns = {\"YJ code\":\"yj\"})\\\n",
    "    .assign(yj_7 = lambda df:df.yj.str[:7])\n",
    "d_mst.head()\n",
    "dm_icd10 = set(d_mst[\"ICD-10 code\"].unique().tolist())\n",
    "dm_codes = set(d_mst[\"diagnosis code\"].unique().tolist())\n",
    "# dm_icd10\n",
    "\n",
    "dr_codes = set(dr_mst[\"medicine code\"].unique().tolist())\n",
    "yj7_codes = set(dr_mst[\"yj_7\"].unique().tolist())"
   ]
  },
  {
   "cell_type": "code",
   "execution_count": 18,
   "id": "3f4e41d5-b4d2-4655-abe4-8ec6adea8355",
   "metadata": {},
   "outputs": [
    {
     "data": {
      "text/html": [
       "<div>\n",
       "<style scoped>\n",
       "    .dataframe tbody tr th:only-of-type {\n",
       "        vertical-align: middle;\n",
       "    }\n",
       "\n",
       "    .dataframe tbody tr th {\n",
       "        vertical-align: top;\n",
       "    }\n",
       "\n",
       "    .dataframe thead th {\n",
       "        text-align: right;\n",
       "    }\n",
       "</style>\n",
       "<table border=\"1\" class=\"dataframe\">\n",
       "  <thead>\n",
       "    <tr style=\"text-align: right;\">\n",
       "      <th></th>\n",
       "      <th>medicine code</th>\n",
       "      <th>brand name (in Japanese)</th>\n",
       "      <th>generic name</th>\n",
       "      <th>Class</th>\n",
       "      <th>yj</th>\n",
       "      <th>yj_7</th>\n",
       "    </tr>\n",
       "  </thead>\n",
       "  <tbody>\n",
       "    <tr>\n",
       "      <th>0</th>\n",
       "      <td>622740600</td>\n",
       "      <td>アカルボース５０ｍｇ錠</td>\n",
       "      <td>Acarbose</td>\n",
       "      <td>α-glucosidase inhibitor</td>\n",
       "      <td>3969003F1018</td>\n",
       "      <td>3969003</td>\n",
       "    </tr>\n",
       "    <tr>\n",
       "      <th>1</th>\n",
       "      <td>613960081</td>\n",
       "      <td>グルコバイ錠５０ｍｇ</td>\n",
       "      <td>Acarbose</td>\n",
       "      <td>α-glucosidase inhibitor</td>\n",
       "      <td>3969003F1026</td>\n",
       "      <td>3969003</td>\n",
       "    </tr>\n",
       "    <tr>\n",
       "      <th>2</th>\n",
       "      <td>620005359</td>\n",
       "      <td>アカルボース錠５０ｍｇ「タイヨー」</td>\n",
       "      <td>Acarbose</td>\n",
       "      <td>α-glucosidase inhibitor</td>\n",
       "      <td>3969003F1034</td>\n",
       "      <td>3969003</td>\n",
       "    </tr>\n",
       "    <tr>\n",
       "      <th>3</th>\n",
       "      <td>620009291</td>\n",
       "      <td>アカルボース錠５０ｍｇ「ＢＭＤ」</td>\n",
       "      <td>Acarbose</td>\n",
       "      <td>α-glucosidase inhibitor</td>\n",
       "      <td>3969003F1042</td>\n",
       "      <td>3969003</td>\n",
       "    </tr>\n",
       "    <tr>\n",
       "      <th>4</th>\n",
       "      <td>620009289</td>\n",
       "      <td>アカルボース錠５０ｍｇ「ＪＧ」</td>\n",
       "      <td>Acarbose</td>\n",
       "      <td>α-glucosidase inhibitor</td>\n",
       "      <td>3969003F1050</td>\n",
       "      <td>3969003</td>\n",
       "    </tr>\n",
       "  </tbody>\n",
       "</table>\n",
       "</div>"
      ],
      "text/plain": [
       "  medicine code brand name (in Japanese) generic name  \\\n",
       "0     622740600              アカルボース５０ｍｇ錠     Acarbose   \n",
       "1     613960081               グルコバイ錠５０ｍｇ     Acarbose   \n",
       "2     620005359        アカルボース錠５０ｍｇ「タイヨー」     Acarbose   \n",
       "3     620009291         アカルボース錠５０ｍｇ「ＢＭＤ」     Acarbose   \n",
       "4     620009289          アカルボース錠５０ｍｇ「ＪＧ」     Acarbose   \n",
       "\n",
       "                     Class            yj     yj_7  \n",
       "0  α-glucosidase inhibitor  3969003F1018  3969003  \n",
       "1  α-glucosidase inhibitor  3969003F1026  3969003  \n",
       "2  α-glucosidase inhibitor  3969003F1034  3969003  \n",
       "3  α-glucosidase inhibitor  3969003F1042  3969003  \n",
       "4  α-glucosidase inhibitor  3969003F1050  3969003  "
      ]
     },
     "execution_count": 18,
     "metadata": {},
     "output_type": "execute_result"
    }
   ],
   "source": [
    "dr_mst.head()"
   ]
  },
  {
   "cell_type": "code",
   "execution_count": 19,
   "id": "9c457f56-5fd0-4a59-bc6c-1732d869d870",
   "metadata": {},
   "outputs": [
    {
     "name": "stdout",
     "output_type": "stream",
     "text": [
      "(309, 4)\n"
     ]
    },
    {
     "data": {
      "text/html": [
       "<div>\n",
       "<style scoped>\n",
       "    .dataframe tbody tr th:only-of-type {\n",
       "        vertical-align: middle;\n",
       "    }\n",
       "\n",
       "    .dataframe tbody tr th {\n",
       "        vertical-align: top;\n",
       "    }\n",
       "\n",
       "    .dataframe thead th {\n",
       "        text-align: right;\n",
       "    }\n",
       "</style>\n",
       "<table border=\"1\" class=\"dataframe\">\n",
       "  <thead>\n",
       "    <tr style=\"text-align: right;\">\n",
       "      <th></th>\n",
       "      <th>diagnosis in Japanese</th>\n",
       "      <th>diagnosis in English</th>\n",
       "      <th>ICD-10 code</th>\n",
       "      <th>diagnosis code</th>\n",
       "    </tr>\n",
       "  </thead>\n",
       "  <tbody>\n",
       "    <tr>\n",
       "      <th>0</th>\n",
       "      <td>インスリン抵抗性糖尿病</td>\n",
       "      <td>Insulin resistant diabetes mellitus</td>\n",
       "      <td>E11</td>\n",
       "      <td>2500001</td>\n",
       "    </tr>\n",
       "    <tr>\n",
       "      <th>1</th>\n",
       "      <td>糖尿病</td>\n",
       "      <td>Diabetes mellitus</td>\n",
       "      <td>E14</td>\n",
       "      <td>2500013</td>\n",
       "    </tr>\n",
       "    <tr>\n",
       "      <th>2</th>\n",
       "      <td>１型糖尿病</td>\n",
       "      <td>Type 1 diabetes mellitus</td>\n",
       "      <td>E10</td>\n",
       "      <td>2500014</td>\n",
       "    </tr>\n",
       "    <tr>\n",
       "      <th>3</th>\n",
       "      <td>２型糖尿病</td>\n",
       "      <td>Type 2 diabetes mellitus</td>\n",
       "      <td>E11</td>\n",
       "      <td>2500015</td>\n",
       "    </tr>\n",
       "    <tr>\n",
       "      <th>4</th>\n",
       "      <td>膵性糖尿病</td>\n",
       "      <td>Pancreatic diabetes mellitus</td>\n",
       "      <td>E13</td>\n",
       "      <td>2500024</td>\n",
       "    </tr>\n",
       "  </tbody>\n",
       "</table>\n",
       "</div>"
      ],
      "text/plain": [
       "  diagnosis in Japanese                 diagnosis in English ICD-10 code  \\\n",
       "0           インスリン抵抗性糖尿病  Insulin resistant diabetes mellitus         E11   \n",
       "1                   糖尿病                    Diabetes mellitus         E14   \n",
       "2                 １型糖尿病             Type 1 diabetes mellitus         E10   \n",
       "3                 ２型糖尿病             Type 2 diabetes mellitus         E11   \n",
       "4                 膵性糖尿病         Pancreatic diabetes mellitus         E13   \n",
       "\n",
       "  diagnosis code  \n",
       "0        2500001  \n",
       "1        2500013  \n",
       "2        2500014  \n",
       "3        2500015  \n",
       "4        2500024  "
      ]
     },
     "execution_count": 19,
     "metadata": {},
     "output_type": "execute_result"
    }
   ],
   "source": [
    "print(d_mst.shape)\n",
    "d_mst.head()"
   ]
  },
  {
   "cell_type": "code",
   "execution_count": 20,
   "id": "d1e25378-9694-4101-9b1f-ad6e2cab7560",
   "metadata": {},
   "outputs": [
    {
     "data": {
      "text/plain": [
       "306"
      ]
     },
     "execution_count": 20,
     "metadata": {},
     "output_type": "execute_result"
    }
   ],
   "source": [
    "f = \"../../share3/m_icd10.parquet\"\n",
    "dis_mst = pl.scan_parquet(f)\\\n",
    "    .filter(\n",
    "        (pl.col(\"icd10_code\").is_in(dm_icd10)) | (pl.col(\"diseases_code\").is_in(dm_codes))\n",
    "    )\n",
    "dis_mst.collect()\n",
    "\n",
    "icdset = dis_mst.collect()\\\n",
    "    .select(pl.col(\"icd10_code\")).to_series().to_list()\n",
    "icdset = set(icdset)\n",
    "disset = dis_mst.collect()\\\n",
    "    .select(pl.col(\"diseases_code\")).to_series().to_list()\n",
    "disset = set(disset)\n",
    "len(disset)"
   ]
  },
  {
   "cell_type": "code",
   "execution_count": 21,
   "id": "3477ac7b-0703-45dc-88e8-1878b500b01d",
   "metadata": {},
   "outputs": [],
   "source": [
    "# disset\n",
    "f_ = \"../../share3/mat/dm_codes.json\"\n",
    "d2j(d={\"dmcode\":list(disset)}, f=f_)"
   ]
  },
  {
   "cell_type": "code",
   "execution_count": 22,
   "id": "d759aabb-589e-41a1-95bd-db12bf463d0e",
   "metadata": {},
   "outputs": [],
   "source": [
    "f = \"../../share3/m_drug_who_atc.parquet\"\n",
    "m_drg_atc = pl.scan_parquet(f)\\\n",
    "    .filter(\n",
    "        pl.col(\"atc_medium_code\") == \"A10\"    \n",
    "        # (pl.col(\"drug_code\").is_in(dr_codes))\n",
    "    )\\\n",
    "    .select(\n",
    "        pl.col(\"drug_code\", \"atc_code\", \"atc_sub_code\", \"atc_sub_name\", \"atc_subdiv_code\", \"atc_subdiv_name\")\n",
    "    )\n",
    "drg_codes1 = m_drg_atc.collect()\\\n",
    "    .select(pl.col(\"drug_code\")).to_series().to_list()"
   ]
  },
  {
   "cell_type": "code",
   "execution_count": 23,
   "id": "98b2468c-3f26-4623-bf4e-f556aecb4896",
   "metadata": {},
   "outputs": [
    {
     "data": {
      "text/html": [
       "<div><style>\n",
       ".dataframe > thead > tr,\n",
       ".dataframe > tbody > tr {\n",
       "  text-align: right;\n",
       "  white-space: pre-wrap;\n",
       "}\n",
       "</style>\n",
       "<small>shape: (620, 6)</small><table border=\"1\" class=\"dataframe\"><thead><tr><th>drug_code</th><th>atc_code</th><th>atc_sub_code</th><th>atc_sub_name</th><th>atc_subdiv_code</th><th>atc_subdiv_name</th></tr><tr><td>str</td><td>str</td><td>str</td><td>str</td><td>str</td><td>str</td></tr></thead><tbody><tr><td>&quot;620000265&quot;</td><td>&quot;A10AB01&quot;</td><td>&quot;A10A&quot;</td><td>&quot;インスリンおよびその誘導体&quot;</td><td>&quot;A10AB&quot;</td><td>&quot;注射用インスリンおよびその誘…</td></tr><tr><td>&quot;620008897&quot;</td><td>&quot;A10AB01&quot;</td><td>&quot;A10A&quot;</td><td>&quot;インスリンおよびその誘導体&quot;</td><td>&quot;A10AB&quot;</td><td>&quot;注射用インスリンおよびその誘…</td></tr><tr><td>&quot;622114401&quot;</td><td>&quot;A10AB01&quot;</td><td>&quot;A10A&quot;</td><td>&quot;インスリンおよびその誘導体&quot;</td><td>&quot;A10AB&quot;</td><td>&quot;注射用インスリンおよびその誘…</td></tr><tr><td>&quot;620008909&quot;</td><td>&quot;A10AB01&quot;</td><td>&quot;A10A&quot;</td><td>&quot;インスリンおよびその誘導体&quot;</td><td>&quot;A10AB&quot;</td><td>&quot;注射用インスリンおよびその誘…</td></tr><tr><td>&quot;620008907&quot;</td><td>&quot;A10AB01&quot;</td><td>&quot;A10A&quot;</td><td>&quot;インスリンおよびその誘導体&quot;</td><td>&quot;A10AB&quot;</td><td>&quot;注射用インスリンおよびその誘…</td></tr><tr><td>&hellip;</td><td>&hellip;</td><td>&hellip;</td><td>&hellip;</td><td>&hellip;</td><td>&hellip;</td></tr><tr><td>&quot;621682502&quot;</td><td>&quot;A10XA&quot;</td><td>&quot;A10X&quot;</td><td>&quot;その他の糖尿病用薬&quot;</td><td>&quot;A10XA&quot;</td><td>&quot;アルドース還元酵素阻害薬&quot;</td></tr><tr><td>&quot;621679001&quot;</td><td>&quot;A10XA&quot;</td><td>&quot;A10X&quot;</td><td>&quot;その他の糖尿病用薬&quot;</td><td>&quot;A10XA&quot;</td><td>&quot;アルドース還元酵素阻害薬&quot;</td></tr><tr><td>&quot;622088001&quot;</td><td>&quot;A10XA&quot;</td><td>&quot;A10X&quot;</td><td>&quot;その他の糖尿病用薬&quot;</td><td>&quot;A10XA&quot;</td><td>&quot;アルドース還元酵素阻害薬&quot;</td></tr><tr><td>&quot;620004474&quot;</td><td>&quot;A10XA&quot;</td><td>&quot;A10X&quot;</td><td>&quot;その他の糖尿病用薬&quot;</td><td>&quot;A10XA&quot;</td><td>&quot;アルドース還元酵素阻害薬&quot;</td></tr><tr><td>&quot;620003143&quot;</td><td>&quot;A10XA&quot;</td><td>&quot;A10X&quot;</td><td>&quot;その他の糖尿病用薬&quot;</td><td>&quot;A10XA&quot;</td><td>&quot;アルドース還元酵素阻害薬&quot;</td></tr></tbody></table></div>"
      ],
      "text/plain": [
       "shape: (620, 6)\n",
       "┌───────────┬──────────┬──────────────┬─────────────────────┬─────────────────┬────────────────────┐\n",
       "│ drug_code ┆ atc_code ┆ atc_sub_code ┆ atc_sub_name        ┆ atc_subdiv_code ┆ atc_subdiv_name    │\n",
       "│ ---       ┆ ---      ┆ ---          ┆ ---                 ┆ ---             ┆ ---                │\n",
       "│ str       ┆ str      ┆ str          ┆ str                 ┆ str             ┆ str                │\n",
       "╞═══════════╪══════════╪══════════════╪═════════════════════╪═════════════════╪════════════════════╡\n",
       "│ 620000265 ┆ A10AB01  ┆ A10A         ┆ インスリンおよびそ  ┆ A10AB           ┆ 注射用インスリンお │\n",
       "│           ┆          ┆              ┆ の誘導体            ┆                 ┆ よびその誘導体・速 │\n",
       "│           ┆          ┆              ┆                     ┆                 ┆ 効型               │\n",
       "│ 620008897 ┆ A10AB01  ┆ A10A         ┆ インスリンおよびそ  ┆ A10AB           ┆ 注射用インスリンお │\n",
       "│           ┆          ┆              ┆ の誘導体            ┆                 ┆ よびその誘導体・速 │\n",
       "│           ┆          ┆              ┆                     ┆                 ┆ 効型               │\n",
       "│ 622114401 ┆ A10AB01  ┆ A10A         ┆ インスリンおよびそ  ┆ A10AB           ┆ 注射用インスリンお │\n",
       "│           ┆          ┆              ┆ の誘導体            ┆                 ┆ よびその誘導体・速 │\n",
       "│           ┆          ┆              ┆                     ┆                 ┆ 効型               │\n",
       "│ 620008909 ┆ A10AB01  ┆ A10A         ┆ インスリンおよびそ  ┆ A10AB           ┆ 注射用インスリンお │\n",
       "│           ┆          ┆              ┆ の誘導体            ┆                 ┆ よびその誘導体・速 │\n",
       "│           ┆          ┆              ┆                     ┆                 ┆ 効型               │\n",
       "│ 620008907 ┆ A10AB01  ┆ A10A         ┆ インスリンおよびそ  ┆ A10AB           ┆ 注射用インスリンお │\n",
       "│           ┆          ┆              ┆ の誘導体            ┆                 ┆ よびその誘導体・速 │\n",
       "│           ┆          ┆              ┆                     ┆                 ┆ 効型               │\n",
       "│ …         ┆ …        ┆ …            ┆ …                   ┆ …               ┆ …                  │\n",
       "│ 621682502 ┆ A10XA    ┆ A10X         ┆ その他の糖尿病用薬  ┆ A10XA           ┆ アルドース還元酵素 │\n",
       "│           ┆          ┆              ┆                     ┆                 ┆ 阻害薬             │\n",
       "│ 621679001 ┆ A10XA    ┆ A10X         ┆ その他の糖尿病用薬  ┆ A10XA           ┆ アルドース還元酵素 │\n",
       "│           ┆          ┆              ┆                     ┆                 ┆ 阻害薬             │\n",
       "│ 622088001 ┆ A10XA    ┆ A10X         ┆ その他の糖尿病用薬  ┆ A10XA           ┆ アルドース還元酵素 │\n",
       "│           ┆          ┆              ┆                     ┆                 ┆ 阻害薬             │\n",
       "│ 620004474 ┆ A10XA    ┆ A10X         ┆ その他の糖尿病用薬  ┆ A10XA           ┆ アルドース還元酵素 │\n",
       "│           ┆          ┆              ┆                     ┆                 ┆ 阻害薬             │\n",
       "│ 620003143 ┆ A10XA    ┆ A10X         ┆ その他の糖尿病用薬  ┆ A10XA           ┆ アルドース還元酵素 │\n",
       "│           ┆          ┆              ┆                     ┆                 ┆ 阻害薬             │\n",
       "└───────────┴──────────┴──────────────┴─────────────────────┴─────────────────┴────────────────────┘"
      ]
     },
     "execution_count": 23,
     "metadata": {},
     "output_type": "execute_result"
    }
   ],
   "source": [
    "# dr_codes\n",
    "atcsb = m_drg_atc\\\n",
    "    .select(pl.col(\"atc_subdiv_code\")).collect().to_series().unique().to_list()\n",
    "\n",
    "m_drg_atc.collect()"
   ]
  },
  {
   "cell_type": "code",
   "execution_count": 24,
   "id": "cbe7b208-70fa-4d1b-bc97-d5214c80e719",
   "metadata": {},
   "outputs": [],
   "source": [
    "# atcsb\n",
    "f_atcsb = \"../../share3/mat/atc_codes.json\"\n",
    "d2j(d={\"atcsubcode\":atcsb}, f=f_atcsb)"
   ]
  },
  {
   "cell_type": "code",
   "execution_count": 25,
   "id": "2a0c617a-ce83-4998-8c33-76d49bcfb18e",
   "metadata": {},
   "outputs": [],
   "source": [
    "f = \"../../share3/m_drug_main.parquet\"\n",
    "m_drg = pl.scan_parquet(f)\\\n",
    "    .with_columns(\n",
    "        pl.col(\"yj_code\").str.slice(0,7).alias(\"yj_7\")\n",
    "    )\\\n",
    "    .filter(\n",
    "        (pl.col(\"drug_code\").is_in(dr_codes))|\n",
    "        (pl.col(\"yj_7\").is_in(yj7_codes))\n",
    "    )\n",
    "m_drg.collect()\n",
    "drg_codes2 = m_drg.collect()\\\n",
    "    .select(pl.col(\"drug_code\")).to_series().to_list()\n",
    "\n",
    "drg_codes = set(drg_codes1 + drg_codes2)\n",
    "# drg_codes"
   ]
  },
  {
   "cell_type": "code",
   "execution_count": 26,
   "id": "ec829c9b-90e4-4985-8a56-47956c73aa0a",
   "metadata": {},
   "outputs": [],
   "source": [
    "# drugcode\n",
    "f_ = \"../../share3/mat/drug_codes.json\"\n",
    "l_drg_codes = list(drg_codes)\n",
    "d2j(d={\"drugcode\":l_drg_codes}, f=f_)"
   ]
  },
  {
   "cell_type": "code",
   "execution_count": null,
   "id": "237f4f85-d4d0-4f4c-8dab-60ff92587dbd",
   "metadata": {},
   "outputs": [],
   "source": []
  },
  {
   "cell_type": "code",
   "execution_count": 33,
   "id": "c9fae299-dfa3-4123-afb7-2aefd6b15194",
   "metadata": {},
   "outputs": [],
   "source": [
    "l_cancer = [\"C\" + str(i).zfill(2) for i in range(0, 100)] + \\\n",
    "        [\"D\" + str(i).zfill(2) for i in range(0, 9)] + \\\n",
    "        [\"D\" + str(i).zfill(2) for i in range(37, 49)]\n",
    "tag_cancer = set(l_cancer)"
   ]
  },
  {
   "cell_type": "code",
   "execution_count": 34,
   "id": "6a5dd0f8-f5fa-4a6e-a971-b2c868bc3387",
   "metadata": {},
   "outputs": [],
   "source": [
    "f_dcans = \"../../share3/mat/cans_codes_icd.json\"\n",
    "d2j(d={\"icdcode\":l_cancer}, f=f_dcans)\n",
    "\n"
   ]
  },
  {
   "cell_type": "code",
   "execution_count": 35,
   "id": "23f1ac96-291b-4611-b069-0cd2fa6b0bfc",
   "metadata": {},
   "outputs": [
    {
     "data": {
      "text/html": [
       "<div><style>\n",
       ".dataframe > thead > tr,\n",
       ".dataframe > tbody > tr {\n",
       "  text-align: right;\n",
       "  white-space: pre-wrap;\n",
       "}\n",
       "</style>\n",
       "<small>shape: (90, 4)</small><table border=\"1\" class=\"dataframe\"><thead><tr><th>diseases_code</th><th>icd10_kbn_code</th><th>icd10_code</th><th>icd10_sub_code</th></tr><tr><td>str</td><td>str</td><td>str</td><td>str</td></tr></thead><tbody><tr><td>&quot;8836431&quot;</td><td>&quot;1&quot;</td><td>&quot;C01&quot;</td><td>&quot;C01&quot;</td></tr><tr><td>&quot;8849995&quot;</td><td>&quot;1&quot;</td><td>&quot;C07&quot;</td><td>&quot;C07&quot;</td></tr><tr><td>&quot;8849994&quot;</td><td>&quot;1&quot;</td><td>&quot;C07&quot;</td><td>&quot;C07&quot;</td></tr><tr><td>&quot;8849993&quot;</td><td>&quot;1&quot;</td><td>&quot;C07&quot;</td><td>&quot;C07&quot;</td></tr><tr><td>&quot;1420003&quot;</td><td>&quot;1&quot;</td><td>&quot;C07&quot;</td><td>&quot;C07&quot;</td></tr><tr><td>&hellip;</td><td>&hellip;</td><td>&hellip;</td><td>&hellip;</td></tr><tr><td>&quot;1939005&quot;</td><td>&quot;1&quot;</td><td>&quot;C73&quot;</td><td>&quot;C73&quot;</td></tr><tr><td>&quot;1939009&quot;</td><td>&quot;1&quot;</td><td>&quot;C73&quot;</td><td>&quot;C73&quot;</td></tr><tr><td>&quot;8849964&quot;</td><td>&quot;1&quot;</td><td>&quot;C73&quot;</td><td>&quot;C73&quot;</td></tr><tr><td>&quot;1939010&quot;</td><td>&quot;1&quot;</td><td>&quot;C73&quot;</td><td>&quot;C73&quot;</td></tr><tr><td>&quot;2890011&quot;</td><td>&quot;1&quot;</td><td>&quot;D45&quot;</td><td>&quot;D45&quot;</td></tr></tbody></table></div>"
      ],
      "text/plain": [
       "shape: (90, 4)\n",
       "┌───────────────┬────────────────┬────────────┬────────────────┐\n",
       "│ diseases_code ┆ icd10_kbn_code ┆ icd10_code ┆ icd10_sub_code │\n",
       "│ ---           ┆ ---            ┆ ---        ┆ ---            │\n",
       "│ str           ┆ str            ┆ str        ┆ str            │\n",
       "╞═══════════════╪════════════════╪════════════╪════════════════╡\n",
       "│ 8836431       ┆ 1              ┆ C01        ┆ C01            │\n",
       "│ 8849995       ┆ 1              ┆ C07        ┆ C07            │\n",
       "│ 8849994       ┆ 1              ┆ C07        ┆ C07            │\n",
       "│ 8849993       ┆ 1              ┆ C07        ┆ C07            │\n",
       "│ 1420003       ┆ 1              ┆ C07        ┆ C07            │\n",
       "│ …             ┆ …              ┆ …          ┆ …              │\n",
       "│ 1939005       ┆ 1              ┆ C73        ┆ C73            │\n",
       "│ 1939009       ┆ 1              ┆ C73        ┆ C73            │\n",
       "│ 8849964       ┆ 1              ┆ C73        ┆ C73            │\n",
       "│ 1939010       ┆ 1              ┆ C73        ┆ C73            │\n",
       "│ 2890011       ┆ 1              ┆ D45        ┆ D45            │\n",
       "└───────────────┴────────────────┴────────────┴────────────────┘"
      ]
     },
     "execution_count": 35,
     "metadata": {},
     "output_type": "execute_result"
    }
   ],
   "source": [
    "f = \"../../share3/m_icd10.parquet\"\n",
    "m_dis = pl.scan_parquet(f)\\\n",
    "    .filter(\n",
    "        pl.col(\"icd10_sub_code\").is_in(tag_cancer)\n",
    "    )\\\n",
    "    .select(\n",
    "        pl.col(\"diseases_code\", \"icd10_kbn_code\", \"icd10_code\",\"icd10_sub_code\")\n",
    "    )\n",
    "code_cancer = m_dis\\\n",
    "    .collect()\\\n",
    "    .select(\n",
    "            pl.col(\"diseases_code\")\n",
    "    ).to_series()\\\n",
    "    .unique().to_list()\n",
    "\n",
    "f_dcans = \"../../share3/mat/cans_codes.json\"\n",
    "d2j(d={\"cancercode\":code_cancer}, f=f_dcans)\n",
    "\n",
    "code_cancer = set(code_cancer )\n",
    "m_dis.fetch()"
   ]
  },
  {
   "cell_type": "code",
   "execution_count": null,
   "id": "360ac128-b667-473a-ba78-61fa16d6c0bd",
   "metadata": {},
   "outputs": [],
   "source": []
  },
  {
   "cell_type": "code",
   "execution_count": null,
   "id": "71cd7c4a-4219-4e0e-ad66-6c8066c1d47e",
   "metadata": {},
   "outputs": [],
   "source": []
  },
  {
   "cell_type": "code",
   "execution_count": 10,
   "id": "6bdcea07-c6ef-47f7-8893-b1284401ee98",
   "metadata": {},
   "outputs": [],
   "source": [
    "# disset"
   ]
  },
  {
   "cell_type": "code",
   "execution_count": 27,
   "id": "b9541d2a-da01-49f5-85e5-d5ed7f913529",
   "metadata": {},
   "outputs": [
    {
     "data": {
      "text/html": [
       "<div>\n",
       "<style scoped>\n",
       "    .dataframe tbody tr th:only-of-type {\n",
       "        vertical-align: middle;\n",
       "    }\n",
       "\n",
       "    .dataframe tbody tr th {\n",
       "        vertical-align: top;\n",
       "    }\n",
       "\n",
       "    .dataframe thead th {\n",
       "        text-align: right;\n",
       "    }\n",
       "</style>\n",
       "<table border=\"1\" class=\"dataframe\">\n",
       "  <thead>\n",
       "    <tr style=\"text-align: right;\">\n",
       "      <th></th>\n",
       "      <th>diagnosis in Japanese</th>\n",
       "      <th>diagnosis in English</th>\n",
       "      <th>ICD-10 code</th>\n",
       "      <th>diagnosis code</th>\n",
       "    </tr>\n",
       "  </thead>\n",
       "  <tbody>\n",
       "  </tbody>\n",
       "</table>\n",
       "</div>"
      ],
      "text/plain": [
       "Empty DataFrame\n",
       "Columns: [diagnosis in Japanese, diagnosis in English, ICD-10 code, diagnosis code]\n",
       "Index: []"
      ]
     },
     "execution_count": 27,
     "metadata": {},
     "output_type": "execute_result"
    }
   ],
   "source": [
    "\n",
    "# dis_mst.fetch()\n",
    "d_mst\\\n",
    "    .query(\"`diagnosis code` not in @disset and `ICD-10 code` not in @icdset\")\n",
    "    # .query(\"`ICD-10 code` not in @icdset\")\n",
    "\n"
   ]
  },
  {
   "cell_type": "code",
   "execution_count": 12,
   "id": "4fbe989c-c9bb-45c4-84fa-3562ec461fb5",
   "metadata": {},
   "outputs": [
    {
     "data": {
      "text/plain": [
       "['0', '1', '2', '3', '4', '5', '6', '7', '8', '9']"
      ]
     },
     "execution_count": 12,
     "metadata": {},
     "output_type": "execute_result"
    }
   ],
   "source": [
    "lx = [str(i) for i in range(10)]\n",
    "lx"
   ]
  },
  {
   "cell_type": "code",
   "execution_count": 21,
   "id": "e2ab86f9-64bc-4922-99ee-3e758daec778",
   "metadata": {},
   "outputs": [
    {
     "name": "stdout",
     "output_type": "stream",
     "text": [
      "../../share3/diag/df_dm_diag_split_0.parquet\n",
      "../../share3/diag/df_dm_diag_split_1.parquet\n",
      "../../share3/diag/df_dm_diag_split_2.parquet\n",
      "../../share3/diag/df_dm_diag_split_3.parquet\n",
      "../../share3/diag/df_dm_diag_split_4.parquet\n",
      "../../share3/diag/df_dm_diag_split_5.parquet\n",
      "../../share3/diag/df_dm_diag_split_6.parquet\n",
      "../../share3/diag/df_dm_diag_split_7.parquet\n",
      "../../share3/diag/df_dm_diag_split_8.parquet\n",
      "../../share3/diag/df_dm_diag_split_9.parquet\n",
      "CPU times: user 27min 29s, sys: 2min 8s, total: 29min 37s\n",
      "Wall time: 4min 25s\n"
     ]
    }
   ],
   "source": [
    "%%time\n",
    "for i in lx:\n",
    "    f = \"../../share3/dis/df_dis_split_{}.parquet\".format(i)\n",
    "    dis_ = pl.scan_parquet(f)\\\n",
    "        .filter(pl.col(\"utagai_flg\") != \"1\")\\\n",
    "        .filter(pl.col(\"diseases_code\").is_in(disset))\\\n",
    "        .group_by(\"kojin_id\",\"grp\", \"receipt_ym\",\"receipt_id\")\\\n",
    "        .agg(pl.lit(True).alias(\"with_dm_diag_codes\"))\n",
    "\n",
    "    f = \"../../share3/drg/df_drg_split_{}.parquet\".format(i)\n",
    "    drg_ = pl.scan_parquet(f)\\\n",
    "        .filter(pl.col(\"drug_code\").is_in(dr_codes))\\\n",
    "        .join(other=m_drg_atc.lazy(), how=\"left\", on=\"drug_code\")\\\n",
    "        .group_by(\"kojin_id\",\"grp\", \"receipt_ym\",\"receipt_id\", \"atc_subdiv_code\")\\\n",
    "        .agg(pl.col(\"line_no\").count().alias(\"dm_drg_usage_sub\"))\\\n",
    "        .group_by(\"kojin_id\",\"grp\", \"receipt_ym\",\"receipt_id\")\\\n",
    "        .agg(\n",
    "            (pl.col(\"atc_subdiv_code\") == value).max().alias(value)\n",
    "            for value in atcsb\n",
    "        )\n",
    "\n",
    "    f_out = \"../../share3/diag/df_dm_diag_split_{}.parquet\".format(i)\n",
    "    print(f_out)\n",
    "    dm_diag = drg_\\\n",
    "        .join(other=dis_,\n",
    "              how =\"inner\",\n",
    "              on=[\"kojin_id\",\"grp\", \"receipt_ym\",\"receipt_id\"])\\\n",
    "        .group_by(\"kojin_id\", \"grp\", \"receipt_ym\")\\\n",
    "        .agg(\n",
    "            pl.col(value).max().alias(value)\n",
    "            for value in atcsb + [\"with_dm_diag_codes\"]\n",
    "        )\n",
    "    \n",
    "    # dm_diag.sink_parquet(f_out)\n",
    "    dm_diag.collect(streaming=True).write_parquet(f_out)\n",
    "    gc.collect()\n",
    "    # break"
   ]
  },
  {
   "cell_type": "code",
   "execution_count": 17,
   "id": "215bd6d4-e396-4f82-840c-96f3889bac77",
   "metadata": {},
   "outputs": [],
   "source": [
    "# dm_diag.show_graph(streaming=True)"
   ]
  },
  {
   "cell_type": "code",
   "execution_count": null,
   "id": "733b353f-51e6-4d86-b73b-7b34416ac547",
   "metadata": {},
   "outputs": [],
   "source": []
  },
  {
   "cell_type": "code",
   "execution_count": null,
   "id": "de9128d0-8362-4b4a-ad78-42b9275e4cbc",
   "metadata": {},
   "outputs": [],
   "source": []
  },
  {
   "cell_type": "code",
   "execution_count": null,
   "id": "b3ed38f0-2002-4984-9b14-6ee114ce3336",
   "metadata": {},
   "outputs": [],
   "source": []
  }
 ],
 "metadata": {
  "kernelspec": {
   "display_name": "Python 3 (ipykernel)",
   "language": "python",
   "name": "python3"
  },
  "language_info": {
   "codemirror_mode": {
    "name": "ipython",
    "version": 3
   },
   "file_extension": ".py",
   "mimetype": "text/x-python",
   "name": "python",
   "nbconvert_exporter": "python",
   "pygments_lexer": "ipython3",
   "version": "3.10.11"
  }
 },
 "nbformat": 4,
 "nbformat_minor": 5
}
