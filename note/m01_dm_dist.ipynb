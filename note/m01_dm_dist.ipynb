{
 "cells": [
  {
   "cell_type": "code",
   "execution_count": 1,
   "id": "78260897-903d-4c56-8ce4-cf8cf7fd9ef5",
   "metadata": {},
   "outputs": [],
   "source": [
    "import polars as pl"
   ]
  },
  {
   "cell_type": "code",
   "execution_count": 2,
   "id": "8cf366e6-05e4-4e07-8730-959ba89cfaaa",
   "metadata": {},
   "outputs": [],
   "source": [
    "f = \"../../share3/tekiyo.parquet\"\n",
    "pts = pl.scan_parquet(f)"
   ]
  },
  {
   "cell_type": "code",
   "execution_count": 3,
   "id": "e4c7ed8c-6fb0-4592-83d8-c01dd3907d10",
   "metadata": {},
   "outputs": [],
   "source": [
    "pts_sub = pts\\\n",
    "    .with_columns(\n",
    "        (pl.col(\"observable_start_ym\") + \"/01\").str.to_datetime().alias(\"start\"),\n",
    "        (pl.col(\"observable_end_ym\") + \"/01\").str.to_datetime().alias(\"end\"),\n",
    "        (pl.col(\"birth_ym\") + \"/01\").alias(\"birth\").str.to_datetime().alias(\"birth\")\n",
    "    )\\\n",
    "    .with_columns(\n",
    "        ((pl.col(\"start\") - pl.col(\"birth\")).dt.total_days()/365.25).alias(\"age_at_start\"),\n",
    "        ((pl.col(\"end\") - pl.col(\"start\")).dt.total_days()*12/365.25).round(0).cast(pl.Int32).alias(\"follow\"),\n",
    "    )\\\n",
    "    .filter(pl.col(\"follow\") >= 60)\n",
    "    # .filter(pl.col(\"start\") <  pl.datetime(2016, 4, 1))\n",
    "# .fetch().to_pandas().T"
   ]
  },
  {
   "cell_type": "code",
   "execution_count": 4,
   "id": "952ac689-b25d-4308-a60a-f169d44e164c",
   "metadata": {},
   "outputs": [
    {
     "data": {
      "text/html": [
       "<div><style>\n",
       ".dataframe > thead > tr,\n",
       ".dataframe > tbody > tr {\n",
       "  text-align: right;\n",
       "  white-space: pre-wrap;\n",
       "}\n",
       "</style>\n",
       "<small>shape: (1, 1)</small><table border=\"1\" class=\"dataframe\"><thead><tr><th>len</th></tr><tr><td>u32</td></tr></thead><tbody><tr><td>9076895</td></tr></tbody></table></div>"
      ],
      "text/plain": [
       "shape: (1, 1)\n",
       "┌─────────┐\n",
       "│ len     │\n",
       "│ ---     │\n",
       "│ u32     │\n",
       "╞═════════╡\n",
       "│ 9076895 │\n",
       "└─────────┘"
      ]
     },
     "execution_count": 4,
     "metadata": {},
     "output_type": "execute_result"
    }
   ],
   "source": [
    "pts.select(pl.len()).collect()"
   ]
  },
  {
   "cell_type": "code",
   "execution_count": 5,
   "id": "873e5a6b-cb26-437b-b262-191aaed904a4",
   "metadata": {},
   "outputs": [
    {
     "data": {
      "text/html": [
       "<div><style>\n",
       ".dataframe > thead > tr,\n",
       ".dataframe > tbody > tr {\n",
       "  text-align: right;\n",
       "  white-space: pre-wrap;\n",
       "}\n",
       "</style>\n",
       "<small>shape: (1, 1)</small><table border=\"1\" class=\"dataframe\"><thead><tr><th>len</th></tr><tr><td>u32</td></tr></thead><tbody><tr><td>1807692</td></tr></tbody></table></div>"
      ],
      "text/plain": [
       "shape: (1, 1)\n",
       "┌─────────┐\n",
       "│ len     │\n",
       "│ ---     │\n",
       "│ u32     │\n",
       "╞═════════╡\n",
       "│ 1807692 │\n",
       "└─────────┘"
      ]
     },
     "execution_count": 5,
     "metadata": {},
     "output_type": "execute_result"
    }
   ],
   "source": [
    "pts_sub.select(pl.len()).collect()"
   ]
  },
  {
   "cell_type": "code",
   "execution_count": 6,
   "id": "37d4adef-6408-489c-a296-814fb66a79af",
   "metadata": {},
   "outputs": [],
   "source": [
    "f = \"../../share3/exam_interview.parquet\"\n",
    "\n",
    "ken = pl.scan_parquet(f)\n",
    "# ken.fetch().to_pandas().T\n"
   ]
  },
  {
   "cell_type": "code",
   "execution_count": null,
   "id": "7e61350b-fe99-4c9b-ac60-fc3439745d24",
   "metadata": {},
   "outputs": [],
   "source": []
  }
 ],
 "metadata": {
  "kernelspec": {
   "display_name": "Python 3 (ipykernel)",
   "language": "python",
   "name": "python3"
  },
  "language_info": {
   "codemirror_mode": {
    "name": "ipython",
    "version": 3
   },
   "file_extension": ".py",
   "mimetype": "text/x-python",
   "name": "python",
   "nbconvert_exporter": "python",
   "pygments_lexer": "ipython3",
   "version": "3.10.11"
  }
 },
 "nbformat": 4,
 "nbformat_minor": 5
}
