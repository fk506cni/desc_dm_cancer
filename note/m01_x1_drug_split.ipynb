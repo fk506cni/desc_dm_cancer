{
 "cells": [
  {
   "cell_type": "code",
   "execution_count": 1,
   "id": "64697615-223d-40c2-b128-12440bed4b46",
   "metadata": {},
   "outputs": [],
   "source": [
    "import polars as pl\n",
    "import calendar\n",
    "import gc\n",
    "import json\n",
    "import glob\n",
    "import hashlib"
   ]
  },
  {
   "cell_type": "code",
   "execution_count": 2,
   "id": "eb2b76ec-5fd2-401f-9ac7-c066854a0d5b",
   "metadata": {},
   "outputs": [],
   "source": [
    "def j2d(f):\n",
    "    with open(f, \"rt\") as file:\n",
    "        d = json.load(file)\n",
    "    return d\n",
    "\n",
    "def d2j(d, f):\n",
    "    with open(f, \"wt\") as file:\n",
    "        json.dump(d, file, indent = 2)"
   ]
  },
  {
   "cell_type": "code",
   "execution_count": 3,
   "id": "6d4140fd-de73-44f5-87d0-b4c1b0a238a2",
   "metadata": {},
   "outputs": [],
   "source": [
    "d_ss = j2d(\"../../share3/mat/d_ss.json\")"
   ]
  },
  {
   "cell_type": "code",
   "execution_count": 4,
   "id": "b6e99537-7b7c-46de-b586-2cd927ed3599",
   "metadata": {},
   "outputs": [
    {
     "data": {
      "text/plain": [
       "{'solt': '89sryf', 'stretch': 62}"
      ]
     },
     "execution_count": 4,
     "metadata": {},
     "output_type": "execute_result"
    }
   ],
   "source": [
    "d_ss"
   ]
  },
  {
   "cell_type": "code",
   "execution_count": 5,
   "id": "7c110da1-0767-459f-bd08-1865f23c00fb",
   "metadata": {},
   "outputs": [
    {
     "data": {
      "text/plain": [
       "['610463145', '621986101', '620871601']"
      ]
     },
     "execution_count": 5,
     "metadata": {},
     "output_type": "execute_result"
    }
   ],
   "source": [
    "l_ = j2d(\"../../share3/mat/drug_codes.json\")['drugcode']\n",
    "drgset = set(l_)\n",
    "l_[:3]"
   ]
  },
  {
   "cell_type": "code",
   "execution_count": 6,
   "id": "d48b5483-08fd-4a9a-91f0-965f94b56074",
   "metadata": {},
   "outputs": [
    {
     "data": {
      "text/plain": [
       "['0', '1', '2', '3', '4', '5', '6', '7', '8', '9']"
      ]
     },
     "execution_count": 6,
     "metadata": {},
     "output_type": "execute_result"
    }
   ],
   "source": [
    "lx = [str(i) for i in range(0, 10)]\n",
    "lx"
   ]
  },
  {
   "cell_type": "code",
   "execution_count": 7,
   "id": "efe88cc2-140d-4057-96ae-130fe35261c5",
   "metadata": {},
   "outputs": [],
   "source": [
    "# f = \"../../share3/temp/receipt_drug.parquet\"\n",
    "f = \"../../share3/receipt_drug.parquet\"\n",
    "df_d = pl.scan_parquet(f,low_memory= True)\\\n",
    "    .filter(pl.col(\"tonpuku_flg\") == \"0\")\\\n",
    "    .filter(pl.col(\"drug_code\").is_in(drgset))\\\n",
    "    .with_columns(\n",
    "            pl.col(\"shiyouryou\").cast(float)\n",
    "    )\\\n",
    "    .select(pl.col(\"receipt_ym\",\"receipt_id\",\"line_no\",\"kojin_id\", \"drug_code\",\"shiyouryou\"))\\\n",
    "    .with_columns(\n",
    "        pl.col(\"kojin_id\").hash(seed=d_ss[\"stretch\"]).cast(pl.String).str.slice(-1,1).alias(\"grp\"),\n",
    "    )\n",
    "\n",
    "# df_d.fetch()"
   ]
  },
  {
   "cell_type": "code",
   "execution_count": 8,
   "id": "0e99f179-a6ec-49dc-815b-e7d9de34a910",
   "metadata": {},
   "outputs": [],
   "source": [
    "f_temp = \"../../share3/receipt_drug_filterd.parquet\"\n",
    "# df_d.sink_parquet(f_temp,maintain_order=False)"
   ]
  },
  {
   "cell_type": "code",
   "execution_count": 9,
   "id": "4c9ba6fc-c645-4c44-997e-71a0d8980995",
   "metadata": {},
   "outputs": [
    {
     "name": "stdout",
     "output_type": "stream",
     "text": [
      "['0', '1', '2', '3', '4', '5', '6', '7', '8', '9']\n",
      "CPU times: user 24 µs, sys: 10 µs, total: 34 µs\n",
      "Wall time: 38.4 µs\n"
     ]
    }
   ],
   "source": [
    "%%time\n",
    "# lx = df_d.select(pl.col(\"grp\")).unique().collect(streaming=True)[\"grp\"].to_list()\n",
    "print(lx)"
   ]
  },
  {
   "cell_type": "code",
   "execution_count": 12,
   "id": "065bc08f-8ab9-43c7-9517-0d9dd1a79316",
   "metadata": {},
   "outputs": [
    {
     "name": "stdout",
     "output_type": "stream",
     "text": [
      "../../share3/receipt_drug_filterd.parquet ../../share3/drg/df_drg_split_0.parquet\n",
      "../../share3/receipt_drug_filterd.parquet ../../share3/drg/df_drg_split_1.parquet\n",
      "../../share3/receipt_drug_filterd.parquet ../../share3/drg/df_drg_split_2.parquet\n",
      "../../share3/receipt_drug_filterd.parquet ../../share3/drg/df_drg_split_3.parquet\n",
      "../../share3/receipt_drug_filterd.parquet ../../share3/drg/df_drg_split_4.parquet\n",
      "../../share3/receipt_drug_filterd.parquet ../../share3/drg/df_drg_split_5.parquet\n",
      "../../share3/receipt_drug_filterd.parquet ../../share3/drg/df_drg_split_6.parquet\n",
      "../../share3/receipt_drug_filterd.parquet ../../share3/drg/df_drg_split_7.parquet\n",
      "../../share3/receipt_drug_filterd.parquet ../../share3/drg/df_drg_split_8.parquet\n",
      "../../share3/receipt_drug_filterd.parquet ../../share3/drg/df_drg_split_9.parquet\n",
      "CPU times: user 39min 7s, sys: 1h 24min 25s, total: 2h 3min 33s\n",
      "Wall time: 1h 40min 19s\n"
     ]
    }
   ],
   "source": [
    "%%time\n",
    "df_d = pl.scan_parquet(f_temp,low_memory= True)\n",
    "for k in lx:\n",
    "    # print(k)\n",
    "    f_out = \"../../share3/drg/df_drg_split_{}.parquet\".format(k)\n",
    "    print(f_temp, f_out)\n",
    "    df_d\\\n",
    "        .filter(pl.col(\"grp\") == k)\\\n",
    "        .sink_parquet(f_out,maintain_order=False)\n",
    "\n",
    "    gc.collect()"
   ]
  },
  {
   "cell_type": "code",
   "execution_count": null,
   "id": "f0707fdb-1b4c-4211-adb9-88971459478f",
   "metadata": {},
   "outputs": [],
   "source": []
  },
  {
   "cell_type": "code",
   "execution_count": null,
   "id": "688e1f0c-cea3-4e46-99bf-f480204d1018",
   "metadata": {},
   "outputs": [],
   "source": []
  },
  {
   "cell_type": "code",
   "execution_count": null,
   "id": "97d3eef9-05c4-4288-9fd9-d698a3756127",
   "metadata": {},
   "outputs": [],
   "source": []
  },
  {
   "cell_type": "code",
   "execution_count": null,
   "id": "fc08255d-35eb-434a-b859-091e939dc19c",
   "metadata": {},
   "outputs": [],
   "source": []
  }
 ],
 "metadata": {
  "kernelspec": {
   "display_name": "Python 3 (ipykernel)",
   "language": "python",
   "name": "python3"
  },
  "language_info": {
   "codemirror_mode": {
    "name": "ipython",
    "version": 3
   },
   "file_extension": ".py",
   "mimetype": "text/x-python",
   "name": "python",
   "nbconvert_exporter": "python",
   "pygments_lexer": "ipython3",
   "version": "3.10.11"
  }
 },
 "nbformat": 4,
 "nbformat_minor": 5
}
