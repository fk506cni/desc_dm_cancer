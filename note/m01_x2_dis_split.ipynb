{
 "cells": [
  {
   "cell_type": "code",
   "execution_count": 1,
   "id": "3f5062e0-3c1f-45e8-aa8c-c67d1b67fc9c",
   "metadata": {},
   "outputs": [],
   "source": [
    "import polars as pl\n",
    "import calendar\n",
    "import gc\n",
    "import json\n",
    "import glob\n",
    "import hashlib"
   ]
  },
  {
   "cell_type": "code",
   "execution_count": 2,
   "id": "176ed0b1-ad72-456c-8d34-bd43687fcfd8",
   "metadata": {},
   "outputs": [],
   "source": [
    "def j2d(f):\n",
    "    with open(f, \"rt\") as file:\n",
    "        d = json.load(file)\n",
    "    return d\n",
    "\n",
    "def d2j(d, f):\n",
    "    with open(f, \"wt\") as file:\n",
    "        json.dump(d, file, indent = 2)"
   ]
  },
  {
   "cell_type": "code",
   "execution_count": 3,
   "id": "9c446c82-c046-40b8-a972-7b3d9f788bbf",
   "metadata": {},
   "outputs": [],
   "source": [
    "d_ss = j2d(\"../../share3/mat/d_ss.json\")"
   ]
  },
  {
   "cell_type": "code",
   "execution_count": 4,
   "id": "918d7799-1a2e-4763-ab5a-320ac7fceeb6",
   "metadata": {},
   "outputs": [
    {
     "data": {
      "text/plain": [
       "{'solt': '89sryf', 'stretch': 62}"
      ]
     },
     "execution_count": 4,
     "metadata": {},
     "output_type": "execute_result"
    }
   ],
   "source": [
    "d_ss"
   ]
  },
  {
   "cell_type": "code",
   "execution_count": 5,
   "id": "ad2fcdfa-158a-4a89-aea5-beb84ad6d383",
   "metadata": {},
   "outputs": [
    {
     "data": {
      "text/plain": [
       "['8843375', '2500031', '8838633']"
      ]
     },
     "execution_count": 5,
     "metadata": {},
     "output_type": "execute_result"
    }
   ],
   "source": [
    "l_dis = j2d(\"../../share3/mat/dm_codes.json\")['dmcode']\n",
    "# disset = set(l_dis)\n",
    "l_dis[:3]"
   ]
  },
  {
   "cell_type": "code",
   "execution_count": 6,
   "id": "174dded8-e5e5-4daf-bda5-bc719935ecf7",
   "metadata": {},
   "outputs": [
    {
     "data": {
      "text/plain": [
       "['8845943', '8845270', '8844174']"
      ]
     },
     "execution_count": 6,
     "metadata": {},
     "output_type": "execute_result"
    }
   ],
   "source": [
    "l_can = j2d(\"../../share3/mat/cans_codes.json\")['cancercode']\n",
    "l_can[:3]"
   ]
  },
  {
   "cell_type": "code",
   "execution_count": 7,
   "id": "3305701d-e49a-4092-ad94-3fac1297ea8f",
   "metadata": {},
   "outputs": [],
   "source": [
    "disset = set(l_dis + l_can)"
   ]
  },
  {
   "cell_type": "code",
   "execution_count": 8,
   "id": "17fe28f5-b72a-43e6-8f93-74831661b9a2",
   "metadata": {},
   "outputs": [],
   "source": [
    "# f = \"../../share3/temp/receipt_diseases.parquet\"\n",
    "f = \"../../share3/receipt_diseases.parquet\"\n",
    "df_dis = pl.scan_parquet(f, low_memory=True, cache=False)\\\n",
    "    .select(\n",
    "        pl.col(\"kojin_id\"),\n",
    "        pl.col(\"receipt_ym\"),\n",
    "        pl.col(\"receipt_id\"),\n",
    "        pl.col(\"line_no\"),\n",
    "        pl.col(\"diseases_code\"),\n",
    "        pl.col(\"utagai_flg\")\n",
    "    )\\\n",
    "    .with_columns(\n",
    "        pl.col(\"kojin_id\").hash(seed=d_ss[\"stretch\"]).cast(pl.String).str.slice(-1,1).alias(\"grp\"),\n",
    "        # pl.col(\"kojin_id\").str.slice(-2,2).alias(\"grp\")\n",
    "        # pl.col(\"kojin_id\").map_elements(lambda s:s2h(s)).alias(\"grp\")\n",
    "    )\n",
    "\n",
    "# df_dis.fetch()"
   ]
  },
  {
   "cell_type": "code",
   "execution_count": 9,
   "id": "ae6bee10-9f74-46c9-9b07-26386632bf5e",
   "metadata": {},
   "outputs": [],
   "source": [
    "df_dis_fix = df_dis\\\n",
    "    .filter(pl.col(\"utagai_flg\") == \"0\")\\\n",
    "    .filter(pl.col(\"diseases_code\").is_in(disset))"
   ]
  },
  {
   "cell_type": "code",
   "execution_count": 10,
   "id": "9b599e9e-41e5-4ff2-9208-e893b74f2f99",
   "metadata": {},
   "outputs": [
    {
     "name": "stdout",
     "output_type": "stream",
     "text": [
      "CPU times: user 2 µs, sys: 1 µs, total: 3 µs\n",
      "Wall time: 6.91 µs\n"
     ]
    }
   ],
   "source": [
    "%%time\n",
    "f_temp = \"../../share3/df_dis_filtered.parquet\"\n",
    "# df_dis_fix.sink_parquet(f_temp,maintain_order=False)"
   ]
  },
  {
   "cell_type": "code",
   "execution_count": 16,
   "id": "620674ce-d1e7-46f0-8778-383bc9f29773",
   "metadata": {},
   "outputs": [
    {
     "ename": "NameError",
     "evalue": "name 'df_dis_fix' is not defined",
     "output_type": "error",
     "traceback": [
      "\u001b[0;31m---------------------------------------------------------------------------\u001b[0m",
      "\u001b[0;31mNameError\u001b[0m                                 Traceback (most recent call last)",
      "Cell \u001b[0;32mIn[16], line 1\u001b[0m\n\u001b[0;32m----> 1\u001b[0m \u001b[38;5;28;01mdel\u001b[39;00m df_dis_fix\n\u001b[1;32m      2\u001b[0m \u001b[38;5;28;01mdel\u001b[39;00m df_dis\n",
      "\u001b[0;31mNameError\u001b[0m: name 'df_dis_fix' is not defined"
     ]
    }
   ],
   "source": [
    "del df_dis_fix\n",
    "del df_dis"
   ]
  },
  {
   "cell_type": "code",
   "execution_count": 17,
   "id": "63cb46b0-2bd7-4ac6-b97a-8761eccf22a5",
   "metadata": {},
   "outputs": [
    {
     "data": {
      "text/plain": [
       "953"
      ]
     },
     "execution_count": 17,
     "metadata": {},
     "output_type": "execute_result"
    }
   ],
   "source": [
    "gc.collect()"
   ]
  },
  {
   "cell_type": "code",
   "execution_count": 11,
   "id": "8830d3d8-08c5-4868-9fe0-b130f4e14805",
   "metadata": {},
   "outputs": [
    {
     "name": "stdout",
     "output_type": "stream",
     "text": [
      "CPU times: user 3.04 s, sys: 1.03 s, total: 4.06 s\n",
      "Wall time: 4.02 s\n"
     ]
    }
   ],
   "source": [
    "%%time\n",
    "# f = \"../../share3/df_dis_split_filtered.parquet\"\n",
    "df_dis = pl.scan_parquet(f_temp, low_memory=True)"
   ]
  },
  {
   "cell_type": "code",
   "execution_count": 12,
   "id": "183e1da0-61fd-4be8-afc4-78ae87058a3a",
   "metadata": {},
   "outputs": [
    {
     "data": {
      "text/plain": [
       "374"
      ]
     },
     "execution_count": 12,
     "metadata": {},
     "output_type": "execute_result"
    }
   ],
   "source": [
    "gc.collect()"
   ]
  },
  {
   "cell_type": "code",
   "execution_count": 13,
   "id": "cff59e7f-49c8-47e0-b406-8226a0c56a14",
   "metadata": {},
   "outputs": [
    {
     "name": "stdout",
     "output_type": "stream",
     "text": [
      "CPU times: user 15 µs, sys: 0 ns, total: 15 µs\n",
      "Wall time: 18.1 µs\n"
     ]
    },
    {
     "data": {
      "text/plain": [
       "['0', '1', '2', '3', '4', '5', '6', '7', '8', '9']"
      ]
     },
     "execution_count": 13,
     "metadata": {},
     "output_type": "execute_result"
    }
   ],
   "source": [
    "%%time\n",
    "lx = [str(i) for i in range(10)]\n",
    "lx"
   ]
  },
  {
   "cell_type": "code",
   "execution_count": 15,
   "id": "e497c2bf-f587-472b-a3c0-6f4e725e3263",
   "metadata": {},
   "outputs": [
    {
     "name": "stdout",
     "output_type": "stream",
     "text": [
      "../../share3/df_dis_filtered.parquet ../../share3/dis/df_dis_split_0.parquet\n",
      "../../share3/df_dis_filtered.parquet ../../share3/dis/df_dis_split_1.parquet\n",
      "../../share3/df_dis_filtered.parquet ../../share3/dis/df_dis_split_2.parquet\n",
      "../../share3/df_dis_filtered.parquet ../../share3/dis/df_dis_split_3.parquet\n",
      "../../share3/df_dis_filtered.parquet ../../share3/dis/df_dis_split_4.parquet\n",
      "../../share3/df_dis_filtered.parquet ../../share3/dis/df_dis_split_5.parquet\n",
      "../../share3/df_dis_filtered.parquet ../../share3/dis/df_dis_split_6.parquet\n",
      "../../share3/df_dis_filtered.parquet ../../share3/dis/df_dis_split_7.parquet\n",
      "../../share3/df_dis_filtered.parquet ../../share3/dis/df_dis_split_8.parquet\n",
      "../../share3/df_dis_filtered.parquet ../../share3/dis/df_dis_split_9.parquet\n",
      "CPU times: user 1h 1min 53s, sys: 2h 22min 23s, total: 3h 24min 17s\n",
      "Wall time: 2h 54min 12s\n"
     ]
    }
   ],
   "source": [
    "%%time\n",
    "\n",
    "for k in lx:\n",
    "    # print(k)\n",
    "    f_out = \"../../share3/dis/df_dis_split_{}.parquet\".format(k)\n",
    "    print(f_temp, f_out)\n",
    "    df_dis\\\n",
    "        .filter(pl.col(\"grp\") == k)\\\n",
    "        .sink_parquet(f_out,maintain_order=True)\n",
    "\n",
    "    # del df_dis\n",
    "    gc.collect()"
   ]
  },
  {
   "cell_type": "code",
   "execution_count": null,
   "id": "f68310f4-5f4d-4ece-b00f-8a2f868e31f6",
   "metadata": {},
   "outputs": [],
   "source": []
  },
  {
   "cell_type": "code",
   "execution_count": null,
   "id": "f6e139f6-76d1-466e-85af-863a73ad91be",
   "metadata": {},
   "outputs": [],
   "source": []
  },
  {
   "cell_type": "code",
   "execution_count": null,
   "id": "97060396-085e-4d01-98de-1c4dffefeac6",
   "metadata": {},
   "outputs": [],
   "source": []
  },
  {
   "cell_type": "code",
   "execution_count": null,
   "id": "e26b168b-d05a-4c44-ac09-4ec800104a96",
   "metadata": {},
   "outputs": [],
   "source": []
  },
  {
   "cell_type": "code",
   "execution_count": null,
   "id": "17238da3-5b16-4a4f-bc9d-cfdd3862f030",
   "metadata": {},
   "outputs": [],
   "source": []
  },
  {
   "cell_type": "code",
   "execution_count": null,
   "id": "47fd1f0d-8216-499e-9a1f-f7e1fd948488",
   "metadata": {},
   "outputs": [],
   "source": []
  },
  {
   "cell_type": "code",
   "execution_count": null,
   "id": "016a7486-d634-4264-890e-5917d88bbdfb",
   "metadata": {},
   "outputs": [],
   "source": []
  },
  {
   "cell_type": "code",
   "execution_count": null,
   "id": "06536d61-37d6-47bc-bfa9-64a3b53d550e",
   "metadata": {},
   "outputs": [],
   "source": []
  },
  {
   "cell_type": "code",
   "execution_count": null,
   "id": "d9d23eec-422f-407e-8c80-be4e0c987c83",
   "metadata": {},
   "outputs": [],
   "source": []
  }
 ],
 "metadata": {
  "kernelspec": {
   "display_name": "Python 3 (ipykernel)",
   "language": "python",
   "name": "python3"
  },
  "language_info": {
   "codemirror_mode": {
    "name": "ipython",
    "version": 3
   },
   "file_extension": ".py",
   "mimetype": "text/x-python",
   "name": "python",
   "nbconvert_exporter": "python",
   "pygments_lexer": "ipython3",
   "version": "3.10.11"
  }
 },
 "nbformat": 4,
 "nbformat_minor": 5
}
