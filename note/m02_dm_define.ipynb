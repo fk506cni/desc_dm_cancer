{
 "cells": [
  {
   "cell_type": "code",
   "execution_count": 1,
   "id": "7e71a1cd-782f-40a2-a967-bb699c5cc233",
   "metadata": {},
   "outputs": [],
   "source": [
    "import pandas as pd\n",
    "import polars as pl\n",
    "import gc\n",
    "import json"
   ]
  },
  {
   "cell_type": "code",
   "execution_count": 2,
   "id": "e522d5d5-d4d5-4a30-a9de-6c29b6490214",
   "metadata": {},
   "outputs": [],
   "source": [
    "def j2d(f):\n",
    "    with open(f, \"rt\") as file:\n",
    "        d = json.load(file)\n",
    "    return d\n",
    "\n",
    "def d2j(d, f):\n",
    "    with open(f, \"wt\") as file:\n",
    "        json.dump(d, file, indent = 2)"
   ]
  },
  {
   "cell_type": "code",
   "execution_count": 3,
   "id": "0d2209fd-302e-45b6-89b8-832002940eaf",
   "metadata": {},
   "outputs": [
    {
     "data": {
      "text/plain": [
       "['8843375', '2500031', '8838633']"
      ]
     },
     "execution_count": 3,
     "metadata": {},
     "output_type": "execute_result"
    }
   ],
   "source": [
    "l_dis = j2d(\"../../share3/mat/dm_codes.json\")['dmcode']\n",
    "# disset = set(l_dis)\n",
    "l_dis[:3]"
   ]
  },
  {
   "cell_type": "code",
   "execution_count": 4,
   "id": "94ed6de7-e6c5-4618-b3e9-9b072ae109a4",
   "metadata": {},
   "outputs": [],
   "source": [
    "disset = set(l_dis)"
   ]
  },
  {
   "cell_type": "code",
   "execution_count": 9,
   "id": "d759aabb-589e-41a1-95bd-db12bf463d0e",
   "metadata": {},
   "outputs": [],
   "source": [
    "f = \"../../share3/m_drug_who_atc.parquet\"\n",
    "m_drg_atc = pl.scan_parquet(f)\\\n",
    "    .filter(\n",
    "        pl.col(\"atc_medium_code\") == \"A10\"    \n",
    "        # (pl.col(\"drug_code\").is_in(dr_codes))\n",
    "    )\\\n",
    "    .select(\n",
    "        pl.col(\"drug_code\", \"atc_code\", \"atc_sub_code\", \"atc_sub_name\", \"atc_subdiv_code\", \"atc_subdiv_name\")\n",
    "    )\n",
    "# drg_codes1 = m_drg_atc.collect()\\\n",
    "#     .select(pl.col(\"drug_code\")).to_series().to_list()"
   ]
  },
  {
   "cell_type": "code",
   "execution_count": 10,
   "id": "98b2468c-3f26-4623-bf4e-f556aecb4896",
   "metadata": {},
   "outputs": [
    {
     "data": {
      "text/html": [
       "<div><style>\n",
       ".dataframe > thead > tr,\n",
       ".dataframe > tbody > tr {\n",
       "  text-align: right;\n",
       "  white-space: pre-wrap;\n",
       "}\n",
       "</style>\n",
       "<small>shape: (620, 6)</small><table border=\"1\" class=\"dataframe\"><thead><tr><th>drug_code</th><th>atc_code</th><th>atc_sub_code</th><th>atc_sub_name</th><th>atc_subdiv_code</th><th>atc_subdiv_name</th></tr><tr><td>str</td><td>str</td><td>str</td><td>str</td><td>str</td><td>str</td></tr></thead><tbody><tr><td>&quot;620000265&quot;</td><td>&quot;A10AB01&quot;</td><td>&quot;A10A&quot;</td><td>&quot;インスリンおよびその誘導体&quot;</td><td>&quot;A10AB&quot;</td><td>&quot;注射用インスリンおよびその誘…</td></tr><tr><td>&quot;620008897&quot;</td><td>&quot;A10AB01&quot;</td><td>&quot;A10A&quot;</td><td>&quot;インスリンおよびその誘導体&quot;</td><td>&quot;A10AB&quot;</td><td>&quot;注射用インスリンおよびその誘…</td></tr><tr><td>&quot;622114401&quot;</td><td>&quot;A10AB01&quot;</td><td>&quot;A10A&quot;</td><td>&quot;インスリンおよびその誘導体&quot;</td><td>&quot;A10AB&quot;</td><td>&quot;注射用インスリンおよびその誘…</td></tr><tr><td>&quot;620008909&quot;</td><td>&quot;A10AB01&quot;</td><td>&quot;A10A&quot;</td><td>&quot;インスリンおよびその誘導体&quot;</td><td>&quot;A10AB&quot;</td><td>&quot;注射用インスリンおよびその誘…</td></tr><tr><td>&quot;620008907&quot;</td><td>&quot;A10AB01&quot;</td><td>&quot;A10A&quot;</td><td>&quot;インスリンおよびその誘導体&quot;</td><td>&quot;A10AB&quot;</td><td>&quot;注射用インスリンおよびその誘…</td></tr><tr><td>&hellip;</td><td>&hellip;</td><td>&hellip;</td><td>&hellip;</td><td>&hellip;</td><td>&hellip;</td></tr><tr><td>&quot;621682502&quot;</td><td>&quot;A10XA&quot;</td><td>&quot;A10X&quot;</td><td>&quot;その他の糖尿病用薬&quot;</td><td>&quot;A10XA&quot;</td><td>&quot;アルドース還元酵素阻害薬&quot;</td></tr><tr><td>&quot;621679001&quot;</td><td>&quot;A10XA&quot;</td><td>&quot;A10X&quot;</td><td>&quot;その他の糖尿病用薬&quot;</td><td>&quot;A10XA&quot;</td><td>&quot;アルドース還元酵素阻害薬&quot;</td></tr><tr><td>&quot;622088001&quot;</td><td>&quot;A10XA&quot;</td><td>&quot;A10X&quot;</td><td>&quot;その他の糖尿病用薬&quot;</td><td>&quot;A10XA&quot;</td><td>&quot;アルドース還元酵素阻害薬&quot;</td></tr><tr><td>&quot;620004474&quot;</td><td>&quot;A10XA&quot;</td><td>&quot;A10X&quot;</td><td>&quot;その他の糖尿病用薬&quot;</td><td>&quot;A10XA&quot;</td><td>&quot;アルドース還元酵素阻害薬&quot;</td></tr><tr><td>&quot;620003143&quot;</td><td>&quot;A10XA&quot;</td><td>&quot;A10X&quot;</td><td>&quot;その他の糖尿病用薬&quot;</td><td>&quot;A10XA&quot;</td><td>&quot;アルドース還元酵素阻害薬&quot;</td></tr></tbody></table></div>"
      ],
      "text/plain": [
       "shape: (620, 6)\n",
       "┌───────────┬──────────┬──────────────┬─────────────────────┬─────────────────┬────────────────────┐\n",
       "│ drug_code ┆ atc_code ┆ atc_sub_code ┆ atc_sub_name        ┆ atc_subdiv_code ┆ atc_subdiv_name    │\n",
       "│ ---       ┆ ---      ┆ ---          ┆ ---                 ┆ ---             ┆ ---                │\n",
       "│ str       ┆ str      ┆ str          ┆ str                 ┆ str             ┆ str                │\n",
       "╞═══════════╪══════════╪══════════════╪═════════════════════╪═════════════════╪════════════════════╡\n",
       "│ 620000265 ┆ A10AB01  ┆ A10A         ┆ インスリンおよびそ  ┆ A10AB           ┆ 注射用インスリンお │\n",
       "│           ┆          ┆              ┆ の誘導体            ┆                 ┆ よびその誘導体・速 │\n",
       "│           ┆          ┆              ┆                     ┆                 ┆ 効型               │\n",
       "│ 620008897 ┆ A10AB01  ┆ A10A         ┆ インスリンおよびそ  ┆ A10AB           ┆ 注射用インスリンお │\n",
       "│           ┆          ┆              ┆ の誘導体            ┆                 ┆ よびその誘導体・速 │\n",
       "│           ┆          ┆              ┆                     ┆                 ┆ 効型               │\n",
       "│ 622114401 ┆ A10AB01  ┆ A10A         ┆ インスリンおよびそ  ┆ A10AB           ┆ 注射用インスリンお │\n",
       "│           ┆          ┆              ┆ の誘導体            ┆                 ┆ よびその誘導体・速 │\n",
       "│           ┆          ┆              ┆                     ┆                 ┆ 効型               │\n",
       "│ 620008909 ┆ A10AB01  ┆ A10A         ┆ インスリンおよびそ  ┆ A10AB           ┆ 注射用インスリンお │\n",
       "│           ┆          ┆              ┆ の誘導体            ┆                 ┆ よびその誘導体・速 │\n",
       "│           ┆          ┆              ┆                     ┆                 ┆ 効型               │\n",
       "│ 620008907 ┆ A10AB01  ┆ A10A         ┆ インスリンおよびそ  ┆ A10AB           ┆ 注射用インスリンお │\n",
       "│           ┆          ┆              ┆ の誘導体            ┆                 ┆ よびその誘導体・速 │\n",
       "│           ┆          ┆              ┆                     ┆                 ┆ 効型               │\n",
       "│ …         ┆ …        ┆ …            ┆ …                   ┆ …               ┆ …                  │\n",
       "│ 621682502 ┆ A10XA    ┆ A10X         ┆ その他の糖尿病用薬  ┆ A10XA           ┆ アルドース還元酵素 │\n",
       "│           ┆          ┆              ┆                     ┆                 ┆ 阻害薬             │\n",
       "│ 621679001 ┆ A10XA    ┆ A10X         ┆ その他の糖尿病用薬  ┆ A10XA           ┆ アルドース還元酵素 │\n",
       "│           ┆          ┆              ┆                     ┆                 ┆ 阻害薬             │\n",
       "│ 622088001 ┆ A10XA    ┆ A10X         ┆ その他の糖尿病用薬  ┆ A10XA           ┆ アルドース還元酵素 │\n",
       "│           ┆          ┆              ┆                     ┆                 ┆ 阻害薬             │\n",
       "│ 620004474 ┆ A10XA    ┆ A10X         ┆ その他の糖尿病用薬  ┆ A10XA           ┆ アルドース還元酵素 │\n",
       "│           ┆          ┆              ┆                     ┆                 ┆ 阻害薬             │\n",
       "│ 620003143 ┆ A10XA    ┆ A10X         ┆ その他の糖尿病用薬  ┆ A10XA           ┆ アルドース還元酵素 │\n",
       "│           ┆          ┆              ┆                     ┆                 ┆ 阻害薬             │\n",
       "└───────────┴──────────┴──────────────┴─────────────────────┴─────────────────┴────────────────────┘"
      ]
     },
     "execution_count": 10,
     "metadata": {},
     "output_type": "execute_result"
    }
   ],
   "source": [
    "# dr_codes\n",
    "atcsb = m_drg_atc\\\n",
    "    .select(pl.col(\"atc_subdiv_code\")).collect().to_series().unique().to_list()\n",
    "\n",
    "m_drg_atc.collect()"
   ]
  },
  {
   "cell_type": "code",
   "execution_count": 11,
   "id": "3709565b-8a04-4d4a-a322-fcf65192d662",
   "metadata": {},
   "outputs": [
    {
     "data": {
      "text/plain": [
       "['610463145', '621986101', '620871601']"
      ]
     },
     "execution_count": 11,
     "metadata": {},
     "output_type": "execute_result"
    }
   ],
   "source": [
    "l_ = j2d(\"../../share3/mat/drug_codes.json\")['drugcode']\n",
    "drg_codes = set(l_)\n",
    "l_[:3]"
   ]
  },
  {
   "cell_type": "code",
   "execution_count": null,
   "id": "1ca851b2-6a33-42fe-bb51-61d50333dc18",
   "metadata": {},
   "outputs": [],
   "source": []
  },
  {
   "cell_type": "code",
   "execution_count": 16,
   "id": "4fbe989c-c9bb-45c4-84fa-3562ec461fb5",
   "metadata": {},
   "outputs": [
    {
     "data": {
      "text/plain": [
       "['0', '1', '2', '3', '4', '5', '6', '7', '8', '9']"
      ]
     },
     "execution_count": 16,
     "metadata": {},
     "output_type": "execute_result"
    }
   ],
   "source": [
    "lx = [str(i) for i in range(10)]\n",
    "lx"
   ]
  },
  {
   "cell_type": "code",
   "execution_count": 22,
   "id": "e2ab86f9-64bc-4922-99ee-3e758daec778",
   "metadata": {},
   "outputs": [
    {
     "name": "stdout",
     "output_type": "stream",
     "text": [
      "../../share3/diag/df_dm_diag_split_0.parquet\n",
      "../../share3/diag/df_dm_diag_split_1.parquet\n",
      "../../share3/diag/df_dm_diag_split_2.parquet\n",
      "../../share3/diag/df_dm_diag_split_3.parquet\n",
      "../../share3/diag/df_dm_diag_split_4.parquet\n",
      "../../share3/diag/df_dm_diag_split_5.parquet\n",
      "../../share3/diag/df_dm_diag_split_6.parquet\n",
      "../../share3/diag/df_dm_diag_split_7.parquet\n",
      "../../share3/diag/df_dm_diag_split_8.parquet\n",
      "../../share3/diag/df_dm_diag_split_9.parquet\n",
      "CPU times: user 24min 10s, sys: 2min 36s, total: 26min 47s\n",
      "Wall time: 5min 23s\n"
     ]
    }
   ],
   "source": [
    "%%time\n",
    "for i in lx:\n",
    "    f = \"../../share3/dis/df_dis_split_{}.parquet\".format(i)\n",
    "    dis_ = pl.scan_parquet(f)\\\n",
    "        .filter(pl.col(\"utagai_flg\") != \"1\")\\\n",
    "        .filter(pl.col(\"diseases_code\").is_in(disset))\\\n",
    "        .group_by(\"kojin_id\",\"grp\", \"receipt_ym\",\"receipt_id\")\\\n",
    "        .agg(pl.lit(True).alias(\"with_dm_diag_codes\"))\n",
    "\n",
    "    f = \"../../share3/drg/df_drg_split_{}.parquet\".format(i)\n",
    "    drg_ = pl.scan_parquet(f)\\\n",
    "        .filter(pl.col(\"drug_code\").is_in(drg_codes))\\\n",
    "        .join(other=m_drg_atc.lazy(), how=\"left\", on=\"drug_code\")\\\n",
    "        .group_by(\"kojin_id\",\"grp\", \"receipt_ym\",\"receipt_id\", \"atc_subdiv_code\")\\\n",
    "        .agg(pl.col(\"line_no\").count().alias(\"dm_drg_usage_sub\"))\\\n",
    "        .group_by(\"kojin_id\",\"grp\", \"receipt_ym\",\"receipt_id\")\\\n",
    "        .agg(\n",
    "            (pl.col(\"atc_subdiv_code\") == value).max().alias(value)\n",
    "            for value in atcsb\n",
    "        )\n",
    "\n",
    "    f_out = \"../../share3/diag/df_dm_diag_split_{}.parquet\".format(i)\n",
    "    print(f_out)\n",
    "    dm_diag = drg_\\\n",
    "        .join(other=dis_,\n",
    "              how =\"inner\",\n",
    "              on=[\"kojin_id\",\"grp\", \"receipt_ym\",\"receipt_id\"])\\\n",
    "        .group_by(\"kojin_id\", \"grp\", \"receipt_ym\")\\\n",
    "        .agg(\n",
    "            pl.col(value).max().alias(value)\n",
    "            for value in atcsb + [\"with_dm_diag_codes\"]\n",
    "        )\n",
    "    \n",
    "    # dm_diag.sink_parquet(f_out)\n",
    "    dm_diag.collect(streaming=True).write_parquet(f_out)\n",
    "    gc.collect()\n",
    "    # break"
   ]
  },
  {
   "cell_type": "code",
   "execution_count": null,
   "id": "52944549-c125-4818-8b49-53521d75faa4",
   "metadata": {},
   "outputs": [],
   "source": []
  },
  {
   "cell_type": "code",
   "execution_count": null,
   "id": "f953bd9f-48c1-4490-b811-c51f56426e74",
   "metadata": {},
   "outputs": [],
   "source": []
  },
  {
   "cell_type": "code",
   "execution_count": null,
   "id": "9ff22c11-ff00-43b0-a1ea-043cbc8fb237",
   "metadata": {},
   "outputs": [],
   "source": []
  },
  {
   "cell_type": "code",
   "execution_count": null,
   "id": "e1300f37-2313-4150-a514-3a05fe7f591b",
   "metadata": {},
   "outputs": [],
   "source": []
  },
  {
   "cell_type": "code",
   "execution_count": null,
   "id": "e796311c-9cb9-469f-8bb2-353fcc66d62b",
   "metadata": {},
   "outputs": [],
   "source": []
  },
  {
   "cell_type": "code",
   "execution_count": null,
   "id": "5b67df56-905a-4047-bde3-3edad134b523",
   "metadata": {},
   "outputs": [],
   "source": []
  },
  {
   "cell_type": "code",
   "execution_count": null,
   "id": "b162bc57-bb2c-48cd-8dbb-48dbd7aa27c4",
   "metadata": {},
   "outputs": [],
   "source": []
  },
  {
   "cell_type": "code",
   "execution_count": null,
   "id": "90853bc0-dbcf-4746-b92a-30b9bbceae53",
   "metadata": {},
   "outputs": [],
   "source": []
  },
  {
   "cell_type": "code",
   "execution_count": 17,
   "id": "215bd6d4-e396-4f82-840c-96f3889bac77",
   "metadata": {},
   "outputs": [],
   "source": [
    "# dm_diag.show_graph(streaming=True)"
   ]
  },
  {
   "cell_type": "code",
   "execution_count": null,
   "id": "e4f69586-bd36-476f-9576-cda01c8b05e1",
   "metadata": {},
   "outputs": [],
   "source": []
  },
  {
   "cell_type": "code",
   "execution_count": null,
   "id": "11baa8a3-91f7-46a9-89d8-0d99a6452ff7",
   "metadata": {},
   "outputs": [],
   "source": []
  },
  {
   "cell_type": "code",
   "execution_count": null,
   "id": "571c7e21-467b-4553-89aa-96ebe3f5af2f",
   "metadata": {},
   "outputs": [],
   "source": []
  }
 ],
 "metadata": {
  "kernelspec": {
   "display_name": "Python 3 (ipykernel)",
   "language": "python",
   "name": "python3"
  },
  "language_info": {
   "codemirror_mode": {
    "name": "ipython",
    "version": 3
   },
   "file_extension": ".py",
   "mimetype": "text/x-python",
   "name": "python",
   "nbconvert_exporter": "python",
   "pygments_lexer": "ipython3",
   "version": "3.10.11"
  }
 },
 "nbformat": 4,
 "nbformat_minor": 5
}
